{
 "cells": [
  {
   "cell_type": "markdown",
   "metadata": {},
   "source": [
    "### Downloads the backblaze data and unzips it"
   ]
  },
  {
   "cell_type": "code",
   "execution_count": null,
   "metadata": {
    "collapsed": false
   },
   "outputs": [],
   "source": [
    "import requests\n",
    "import os\n",
    "\n",
    "DATA_FOLDERS = [\"2014\",\"2015\",\"data_Q1_2016\",\"data_Q2_2016\",\"data_Q3_2016\",\"data_Q4_2016\"]\n",
    "\n",
    "urls = {\"2013\":\"https://f001.backblaze.com/file/Backblaze-Hard-Drive-Data/data_2013.zip?_ga=1.59842797.1925164210.1490408817\",\n",
    "        \"2014\":\"https://f001.backblaze.com/file/Backblaze-Hard-Drive-Data/data_2014.zip?_ga=1.257633483.1925164210.1490408817\",\n",
    "        \"2015\":\"https://f001.backblaze.com/file/Backblaze-Hard-Drive-Data/data_2015.zip?_ga=1.78202196.1925164210.1490408817\",\n",
    "        \"2016_Q1\":\"https://f001.backblaze.com/file/Backblaze-Hard-Drive-Data/data_Q1_2016.zip?_ga=1.74695890.1925164210.1490408817\",\n",
    "        \"2016_Q2\":\"https://f001.backblaze.com/file/Backblaze-Hard-Drive-Data/data_Q2_2016.zip?_ga=1.13126007.1925164210.1490408817\",\n",
    "        \"2016_Q3\":\"https://f001.backblazeb2.com/file/Backblaze-Hard-Drive-Data/data_Q3_2016.zip\",\n",
    "        \"2016_Q4\":\"https://f001.backblazeb2.com/file/Backblaze-Hard-Drive-Data/data_Q4_2016.zip\"\n",
    "       }\n",
    "\n",
    "if not os.path.isdir(\"data\"):\n",
    "    os.system(\"mkdir data\")\n",
    "\n",
    "for zfile in urls.keys():\n",
    "    if not os.path.exists(\"data/\" + zfile + \".zip\"):\n",
    "        print(\"Getting file: \", urls[zfile])\n",
    "        response = requests.get(urls[zfile])\n",
    "        with open(\"data/\" + zfile + \".zip\", \"wb\") as code:\n",
    "            code.write(response.content)    \n",
    "    try:\n",
    "        uz_cmd = 'unzip ' + \"data/\" + zfile + \".zip -d data/\"\n",
    "        print(\"Executing command: \" + uz_cmd)\n",
    "        os.system(uz_cmd)\n",
    "    except:\n",
    "        pass\n",
    "    "
   ]
  },
  {
   "cell_type": "markdown",
   "metadata": {
    "collapsed": true
   },
   "source": [
    "### note: the 2016 q4 doesn't unzip into its own folder"
   ]
  },
  {
   "cell_type": "code",
   "execution_count": null,
   "metadata": {
    "collapsed": true
   },
   "outputs": [],
   "source": [
    "if not os.path.isdir(\"data/data_Q4_2016\"):\n",
    "    os.system(\"mkdir data/data_Q4_2016\")\n",
    "os.system(\"mv data/2016*csv  data/data_Q4_2016\")"
   ]
  }
 ],
 "metadata": {
  "kernelspec": {
   "display_name": "Python 3",
   "language": "python",
   "name": "python3"
  },
  "language_info": {
   "codemirror_mode": {
    "name": "ipython",
    "version": 3
   },
   "file_extension": ".py",
   "mimetype": "text/x-python",
   "name": "python",
   "nbconvert_exporter": "python",
   "pygments_lexer": "ipython3",
   "version": "3.5.2"
  }
 },
 "nbformat": 4,
 "nbformat_minor": 2
}
