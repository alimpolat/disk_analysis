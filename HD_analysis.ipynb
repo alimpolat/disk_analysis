{
 "cells": [
  {
   "cell_type": "markdown",
   "metadata": {},
   "source": [
    "# Disk Failure Analysis\n",
    " * A preliminary analyis of hard drives 2016 from Backblaze. This dataset contains basic hard drive information and 90 columns of raw and normalized values of 45 different S.M.A.R.T. statistics. Each row represents a daily snapshot of one hard drive.\n",
    " * code source: https://github.com/bastidas/disk_analysis\n",
    " * data source: https://www.backblaze.com/b2/hard-drive-test-data.html\n",
    " * alexander.bastidas.fry@gmail.com"
   ]
  },
  {
   "cell_type": "code",
   "execution_count": 1,
   "metadata": {
    "collapsed": false
   },
   "outputs": [
    {
     "name": "stdout",
     "output_type": "stream",
     "text": [
      "Shape of hd data:  (182000, 96)\n",
      "There are 2774 unique drives. \n",
      "There are 37 unique models. \n",
      "There are 91 unique dates. \n",
      "There are 11 failures.\n"
     ]
    }
   ],
   "source": [
    "import os\n",
    "import sys\n",
    "import math\n",
    "import struct\n",
    "import pandas as pd\n",
    "import numpy as np\n",
    "import seaborn as sns\n",
    "import matplotlib.pyplot as plt\n",
    "from sklearn.decomposition import PCA\n",
    "from sklearn.preprocessing import RobustScaler\n",
    "from sklearn.preprocessing import StandardScaler\n",
    "from sklearn.ensemble import ExtraTreesClassifier\n",
    "from sklearn.ensemble import RandomForestClassifier\n",
    "from sklearn.model_selection import train_test_split\n",
    "from sklearn.feature_selection import SelectFromModel\n",
    "from sklearn.feature_selection import VarianceThreshold\n",
    "from sklearn.discriminant_analysis import LinearDiscriminantAnalysis\n",
    "\n",
    "dir = \"data/data_Q1_2016/\"\n",
    "#yr = '2016'\n",
    "hd = pd.DataFrame()\n",
    "for file in os.listdir(dir): # loading 78 indivual data files\n",
    "    temp = pd.read_csv(dir+file, header=0,nrows=2000) # my laptop is struggling to handle more rows\n",
    "    hd = hd.append(temp)\n",
    "print(\"Shape of hd data: \", np.shape(hd))\n",
    "print(\"There are %d unique drives. \" % hd['serial_number'].value_counts().count())\n",
    "print(\"There are %d unique models. \" % hd['model'].value_counts().count())\n",
    "print(\"There are %d unique dates. \" % hd['date'].value_counts().count())\n",
    "print(\"There are %d failures.\" % hd['failure'].sum())"
   ]
  },
  {
   "cell_type": "markdown",
   "metadata": {},
   "source": []
  },
  {
   "cell_type": "code",
   "execution_count": 2,
   "metadata": {
    "collapsed": false
   },
   "outputs": [
    {
     "name": "stdout",
     "output_type": "stream",
     "text": [
      "capacity_tb\n",
      "0.080026        22\n",
      "0.160042       773\n",
      "0.250059       153\n",
      "0.320073       399\n",
      "0.500108      1982\n",
      "1.000205        90\n",
      "1.500302       581\n",
      "2.000399     13972\n",
      "3.000593     18771\n",
      "4.000787    138025\n",
      "5.000981       295\n",
      "6.001175      6846\n",
      "8.001563        91\n",
      "dtype: int64\n"
     ]
    }
   ],
   "source": [
    "def tb_capacity(x):\n",
    "    \"\"\"\n",
    "    1 gig is np.power(2, 30) bytes, but maybe it is 10^9 bytes. Who you asking? Whatever.\n",
    "    \"\"\"\n",
    "    tb = np.power(10, 12)\n",
    "    #if not math.isnan(x):\n",
    "    return x/tb\n",
    "\n",
    "hd.capacity_bytes = hd.capacity_bytes.map(tb_capacity)\n",
    "hd.rename(columns={'capacity_bytes': 'capacity_tb'}, inplace=True)\n",
    "print(hd.groupby('capacity_tb').size()) # looks like the capacity is stored irregularly"
   ]
  },
  {
   "cell_type": "code",
   "execution_count": 3,
   "metadata": {
    "collapsed": false
   },
   "outputs": [],
   "source": [
    "hd.loc[:, 'date'] = pd.to_datetime(hd.loc[:, 'date'])\n",
    "hd.loc[:, 'date'] = hd.loc[:, 'date'] .dt.dayofyear\n",
    "hd.rename(columns={'date': 'day_of_year'}, inplace=True)"
   ]
  },
  {
   "cell_type": "code",
   "execution_count": 4,
   "metadata": {
    "collapsed": true
   },
   "outputs": [],
   "source": [
    "### Make a summary data frame by model "
   ]
  },
  {
   "cell_type": "code",
   "execution_count": 5,
   "metadata": {
    "collapsed": false
   },
   "outputs": [
    {
     "name": "stdout",
     "output_type": "stream",
     "text": [
      "                  model      size  count  obs_days  drive_hours  failures  \\\n",
      "0  HGST HDS5C4040ALE630  4.000787    5.0     300.0       7196.0       0.0   \n",
      "1  HGST HDS724040ALE640  4.000787    1.0      90.0       2159.0       0.0   \n",
      "2  HGST HMS5C4040ALE640  4.000787  298.0   20629.0     494863.0       1.0   \n",
      "\n",
      "   failure_rate  percent_total  \n",
      "0      0.000000       0.001802  \n",
      "1      0.000000       0.000360  \n",
      "2      1.770187       0.107426  \n"
     ]
    }
   ],
   "source": [
    "aggregations = {\n",
    "    'failure': {\n",
    "     'failure': 'sum'\n",
    "    },\n",
    "    'capacity_tb':{\n",
    "        'mean_cap': 'mean'\n",
    "    },\n",
    "    'day_of_year': { \n",
    "        #'first_date': 'min',  \n",
    "        #'last_date': 'max', \n",
    "        #'uncensored_days': 'count',\n",
    "        'days': lambda x: max(x) - min(x)  \n",
    "    },\n",
    "    'smart_9_raw': { # smart 9 is the disk uptime\n",
    "        'runtime_max': 'max',  \n",
    "        'runtime_min': 'min',\n",
    "        'uptime': lambda x: max(x) - min(x)  \n",
    "    }    \n",
    "}\n",
    "\n",
    "by_model_serial = hd.groupby(['model', 'serial_number']).agg(aggregations)#.reset_index()\n",
    "by_model_serial.columns = by_model_serial.columns.droplevel()\n",
    "\n",
    "models = by_model_serial.index.levels[0].tolist()\n",
    "\n",
    "#manufacturer, model, size, count, drive_days, drive_hours, failures, failure_rate, percent_total\n",
    "\n",
    "summary_cols = ['model', 'size', 'count', 'drive_days', 'drive_hours', 'failures', 'failure_rate', 'percent_total']\n",
    "### The annualized failure rate is: 100 * Failures/(Drive Days/365) \n",
    "summary_cols = ['model', 'size', 'count', 'obs_days', 'drive_hours', 'failures', 'failure_rate', 'percent_total']\n",
    "summary = pd.DataFrame([], columns=summary_cols)\n",
    "ntot_drives = hd['serial_number'].value_counts().count()\n",
    "\n",
    "for i in models:\n",
    "    tmp = by_model_serial.xs(i)\n",
    "    #print('model', i, '\\n', 'unique_serials:', len(tmp), 'uptime: ', np.sum(tmp['uptime']), 'failures: ',  np.sum(tmp['failure']))\n",
    "    nfailures = np.sum(tmp['failure'])\n",
    "    drive_hours = 1.0+np.sum(tmp['uptime'])\n",
    "    f_rate = 100.0 * nfailures/(drive_hours/8760.0) \n",
    "    df_tmp = pd.DataFrame([[i, np.mean(tmp['mean_cap']), len(tmp),  np.sum(tmp['days']),drive_hours, nfailures, f_rate, len(tmp)/ntot_drives]], columns=summary_cols)\n",
    "    summary = summary.append(df_tmp, ignore_index=True)\n",
    "\n",
    "print(summary.head(3))"
   ]
  },
  {
   "cell_type": "code",
   "execution_count": 6,
   "metadata": {
    "collapsed": false
   },
   "outputs": [],
   "source": [
    "# add manufactuer info to summary\n",
    "summary['manufacturer'] = \"unknown\"\n",
    "for i in summary.index:\n",
    "    si = summary.loc[i,'model']\n",
    "    #print(i, ':', si)\n",
    "    if 'HGST' in si:\n",
    "        summary.loc[i,'manufacturer'] = \"HGST\"\n",
    "        summary.loc[i,'model'] = si.split('HGST ')[1]\n",
    "    if 'Hitachi' in si:\n",
    "        summary.loc[i,'manufacturer'] = \"Hitachi\"\n",
    "        summary.loc[i,'model'] = si.split('Hitachi ')[1]\n",
    "    if 'WDC' in si[0:3]:\n",
    "        summary.loc[i,'manufacturer'] = \"Western Digital\"\n",
    "        summary.loc[i,'model'] = si.split('WDC ')[1]\n",
    "    if 'ST' in si[0:2]:\n",
    "        summary.loc[i,'manufacturer'] = \"Seagate\"\n",
    "        summary.loc[i, 'model'] = si#.split('WDC ')[1]\n",
    "    if 'TOSHIB' in si:\n",
    "        summary.loc[i,'manufacturer'] = \"Toshiba\"\n",
    "        summary.loc[i,'model'] = si.split('TOSHIBA ')[1]\n",
    "\n",
    "summary.to_csv('d2016.csv')"
   ]
  },
  {
   "cell_type": "code",
   "execution_count": null,
   "metadata": {
    "collapsed": false
   },
   "outputs": [],
   "source": []
  },
  {
   "cell_type": "code",
   "execution_count": 7,
   "metadata": {
    "collapsed": false
   },
   "outputs": [
    {
     "name": "stdout",
     "output_type": "stream",
     "text": [
      "hd models                          failure  serial_number\n",
      "model                                          \n",
      "HGST HDS5C4040ALE630         0.0              5\n",
      "HGST HDS724040ALE640         0.0              1\n",
      "HGST HMS5C4040ALE640         1.0            298\n",
      "HGST HMS5C4040BLE640         0.0            130\n",
      "HGST HUH728080ALE600         0.0              1\n",
      "Hitachi HDS5C3030ALA630      0.0            190\n",
      "Hitachi HDS5C3030BLE630      0.0              1\n",
      "Hitachi HDS5C4040ALE630      0.0            112\n",
      "Hitachi HDS722020ALA330      0.0            190\n",
      "Hitachi HDS723020BLA642      0.0              1\n",
      "Hitachi HDS723030ALA640      0.0             43\n",
      "Hitachi HDS724040ALE640      0.0              1\n",
      "ST2000VN000                  0.0              1\n",
      "ST31500541AS                 0.0             13\n",
      "ST3160316AS                  0.0              2\n",
      "ST3160318AS                  0.0              4\n",
      "ST320LT007                   0.0              1\n",
      "ST4000DM000                  7.0           1552\n",
      "ST4000DX000                  0.0             10\n",
      "ST500LM012 HN                0.0             21\n",
      "ST6000DX000                  0.0             87\n",
      "ST9250315AS                  0.0              3\n",
      "ST9320325AS                  0.0              3\n",
      "TOSHIBA DT01ACA300           0.0              2\n",
      "TOSHIBA MD04ABA400V          0.0              9\n",
      "TOSHIBA MD04ABA500V          0.0              4\n",
      "WDC WD10EACS                 1.0              2\n",
      "WDC WD10EADS                 0.0             10\n",
      "WDC WD10EADX                 0.0              1\n",
      "WDC WD1600AAJS               0.0              6\n",
      "WDC WD20EFRX                 1.0              5\n",
      "WDC WD30EFRX                 0.0             34\n",
      "WDC WD3200AAJB               0.0              1\n",
      "WDC WD40EFRX                 0.0              1\n",
      "WDC WD5000LPVX               1.0             15\n",
      "WDC WD60EFRX                 0.0             13\n",
      "WDC WD800AAJS                0.0              1\n"
     ]
    }
   ],
   "source": [
    "hd_models = hd.groupby(\"model\").agg({\"failure\": np.sum, \"serial_number\": pd.Series.nunique})\n",
    "hd_models_index = hd_models.index.tolist()\n",
    "hd_failure_count = hd_models.failure.tolist()\n",
    "n_required = 0 \n",
    "for q in range(len(hd_models)):\n",
    "    if hd_failure_count[q] < n_required:\n",
    "        #print(hd_models_index[q])\n",
    "        hd = hd[hd.model != hd_models_index[q]]\n",
    "hd_models = hd.groupby(\"model\").agg({\"failure\": np.sum, \"serial_number\": pd.Series.nunique})\n",
    "print('hd models', hd_models)"
   ]
  },
  {
   "cell_type": "code",
   "execution_count": 8,
   "metadata": {
    "collapsed": false
   },
   "outputs": [],
   "source": [
    "models = hd['model'].value_counts().index.tolist()\n",
    "hd_by_model_by_day =[]\n",
    "aggregations = {\n",
    "    'failure': {\n",
    "     'failure': 'sum'\n",
    "    },  \n",
    "    'serial_number':{\n",
    "         'unique_serial': pd.Series.nunique   \n",
    "        }\n",
    "}\n",
    "\n",
    "for q in models: #for each model get its stats per day\n",
    "    ags = hd[hd['model'] == q].groupby(\"day_of_year\").agg(aggregations)#.reset_index()\n",
    "    ags.columns = ags.columns.droplevel()\n",
    "    hd_by_model_by_day.append(ags)\n",
    "\n",
    "tot_failures = []    \n",
    "for q in range(len(models)):\n",
    "    tot_failures.append( np.cumsum(hd_by_model_by_day[q]['failure']))"
   ]
  },
  {
   "cell_type": "code",
   "execution_count": 12,
   "metadata": {
    "collapsed": false
   },
   "outputs": [
    {
     "name": "stdout",
     "output_type": "stream",
     "text": [
      "ST4000DM000 fails at an annual percentage rate of 2.6 percent.\n",
      "HGST HMS5C4040ALE640 fails at an annual percentage rate of 1.7 percent.\n",
      "Hitachi HDS722020ALA330 fails at an annual percentage rate of 0.0 percent.\n",
      "Hitachi HDS5C3030ALA630 fails at an annual percentage rate of 0.0 percent.\n",
      "HGST HMS5C4040BLE640 fails at an annual percentage rate of 0.0 percent.\n",
      "Hitachi HDS5C4040ALE630 fails at an annual percentage rate of 0.0 percent.\n",
      "ST6000DX000 fails at an annual percentage rate of 0.0 percent.\n",
      "Hitachi HDS723030ALA640 fails at an annual percentage rate of 0.0 percent.\n",
      "WDC WD30EFRX fails at an annual percentage rate of 0.0 percent.\n",
      "ST500LM012 HN fails at an annual percentage rate of 0.0 percent.\n",
      "WDC WD60EFRX fails at an annual percentage rate of 0.0 percent.\n",
      "ST4000DX000 fails at an annual percentage rate of 0.0 percent.\n",
      "WDC WD5000LPVX fails at an annual percentage rate of 50.1 percent.\n",
      "TOSHIBA MD04ABA400V fails at an annual percentage rate of 0.0 percent.\n",
      "ST31500541AS fails at an annual percentage rate of 0.0 percent.\n",
      "WDC WD1600AAJS fails at an annual percentage rate of 0.0 percent.\n",
      "HGST HDS5C4040ALE630 fails at an annual percentage rate of 0.0 percent.\n",
      "TOSHIBA MD04ABA500V fails at an annual percentage rate of 0.0 percent.\n",
      "ST3160318AS fails at an annual percentage rate of 0.0 percent.\n",
      "ST9320325AS fails at an annual percentage rate of 0.0 percent.\n",
      "WDC WD20EFRX fails at an annual percentage rate of 133.7 percent.\n",
      "ST9250315AS fails at an annual percentage rate of 0.0 percent.\n",
      "ST3160316AS fails at an annual percentage rate of 0.0 percent.\n",
      "TOSHIBA DT01ACA300 fails at an annual percentage rate of 0.0 percent.\n",
      "WDC WD40EFRX fails at an annual percentage rate of 0.0 percent.\n",
      "ST320LT007 fails at an annual percentage rate of 0.0 percent.\n",
      "HGST HUH728080ALE600 fails at an annual percentage rate of 0.0 percent.\n",
      "Hitachi HDS724040ALE640 fails at an annual percentage rate of 0.0 percent.\n",
      "HGST HDS724040ALE640 fails at an annual percentage rate of 0.0 percent.\n",
      "ST2000VN000 fails at an annual percentage rate of 0.0 percent.\n",
      "WDC WD10EADS fails at an annual percentage rate of 0.0 percent.\n",
      "Hitachi HDS723020BLA642 fails at an annual percentage rate of 0.0 percent.\n",
      "WDC WD3200AAJB fails at an annual percentage rate of 0.0 percent.\n",
      "WDC WD800AAJS fails at an annual percentage rate of 0.0 percent.\n",
      "WDC WD10EACS fails at an annual percentage rate of 2027.8 percent.\n",
      "Hitachi HDS5C3030BLE630 fails at an annual percentage rate of 0.0 percent.\n",
      "WDC WD10EADX fails at an annual percentage rate of 0.0 percent.\n"
     ]
    }
   ],
   "source": [
    "for n in range(len(hd_by_model_by_day)):\n",
    "    failure_rate = 100*365*np.mean(hd_by_model_by_day[n].failure/hd_by_model_by_day[n].unique_serial)\n",
    "    print(\"%s fails at an annual percentage rate of %s percent.\" % (models[n],np.round(failure_rate,1)))"
   ]
  },
  {
   "cell_type": "code",
   "execution_count": 13,
   "metadata": {
    "collapsed": false,
    "scrolled": true
   },
   "outputs": [
    {
     "data": {
      "image/png": "[encoded data removed]",
      "text/plain": [
       "<matplotlib.figure.Figure at 0x7f92b06734a8>"
      ]
     },
     "metadata": {},
     "output_type": "display_data"
    },
    {
     "data": {
      "text/plain": [
       "<matplotlib.figure.Figure at 0x7f92b02214a8>"
      ]
     },
     "metadata": {},
     "output_type": "display_data"
    },
    {
     "data": {
      "image/png": "[encoded data removed]",
      "text/plain": [
       "<matplotlib.figure.Figure at 0x7f92b06d0fd0>"
      ]
     },
     "metadata": {},
     "output_type": "display_data"
    }
   ],
   "source": [
    "\n",
    "sn_colors = sns.color_palette(\"hls\", 8)\n",
    "tmark=\"\"\n",
    "fig = plt.figure(figsize=(1,1))\n",
    "ax = fig.add_subplot(111)\n",
    "for tcolor, umn in zip(sn_colors, range(len(models))):\n",
    "    ax.plot([None], [None], marker=tmark, color=tcolor, lw=1.0,label = models[umn])\n",
    "leg = plt.legend(loc='center', shadow=False, frameon=True, ncol=2, borderaxespad=0.)\n",
    "leg.get_frame().set_linewidth(0.5)\n",
    "plt.axis('off')\n",
    "plt.show()\n",
    "\n",
    "fig = plt.figure(figsize=(6,6))\n",
    "fig = plt.figure()\n",
    "ax = fig.add_subplot(221)\n",
    "for tcolor, umn, in zip(sn_colors, range(len(models))):\n",
    "    ax.plot(hd_by_model_by_day[umn].index, hd_by_model_by_day[umn].failure, marker=tmark, color=tcolor, lw=1.0)\n",
    "ax.set_xlabel('Day')\n",
    "ax.set_ylabel('# failures')\n",
    "ax.set_xlim(0)\n",
    "ax.set_ylim(0)\n",
    "ax = fig.add_subplot(222)\n",
    "for tcolor, umn in zip(sn_colors, range(len(models))):\n",
    "    ax.semilogy(hd_by_model_by_day[umn].index, hd_by_model_by_day[umn].unique_serial, marker=tmark, color=tcolor, lw=1.0)\n",
    "ax.set_xlabel('Day')\n",
    "ax.set_ylabel('# of unique drives')\n",
    "ax = fig.add_subplot(223)\n",
    "for tcolor, umn in zip(sn_colors, range(len(models))):\n",
    "    ax.plot(hd_by_model_by_day[umn].index, tot_failures[umn], marker=tmark, color=tcolor, lw=1.0)\n",
    "ax.set_xlabel('Day')\n",
    "ax.set_ylabel('cumulative # failures')\n",
    "ax = fig.add_subplot(224)\n",
    "for tcolor, umn in zip(sn_colors, range(len(models))):\n",
    "    ax.plot(hd_by_model_by_day[umn].index, tot_failures[umn]/hd_by_model_by_day[umn].unique_serial, marker=tmark, color=tcolor, lw=1.0)\n",
    "ax.set_xlabel('Day')\n",
    "ax.set_ylabel('Cumulative Failure Fraction')\n",
    "plt.tight_layout()\n",
    "plt.show()\n"
   ]
  },
  {
   "cell_type": "markdown",
   "metadata": {},
   "source": [
    "# What is the median survival time of a hard drive?\n",
    "* Survival analysis for this, in particular the [lifelines package](http://lifelines.readthedocs.io/en/latest/). Note that this data is truncated and censored, what that means is that we need to use careful statistics to predict reasonable survival times and reasonable confidence levels of those predictions."
   ]
  },
  {
   "cell_type": "code",
   "execution_count": 14,
   "metadata": {
    "collapsed": false
   },
   "outputs": [
    {
     "name": "stdout",
     "output_type": "stream",
     "text": [
      "{'HGST HDS5C4040ALE630': 0, 'HGST HDS724040ALE640': 1, 'HGST HMS5C4040ALE640': 2, 'HGST HMS5C4040BLE640': 3, 'HGST HUH728080ALE600': 4, 'Hitachi HDS5C3030ALA630': 5, 'Hitachi HDS5C3030BLE630': 6, 'Hitachi HDS5C4040ALE630': 7, 'Hitachi HDS722020ALA330': 8, 'Hitachi HDS723020BLA642': 9, 'Hitachi HDS723030ALA640': 10, 'Hitachi HDS724040ALE640': 11, 'ST2000VN000': 12, 'ST31500541AS': 13, 'ST3160316AS': 14, 'ST3160318AS': 15, 'ST320LT007': 16, 'ST4000DM000': 17, 'ST4000DX000': 18, 'ST500LM012 HN': 19, 'ST6000DX000': 20, 'ST9250315AS': 21, 'ST9320325AS': 22, 'TOSHIBA DT01ACA300': 23, 'TOSHIBA MD04ABA400V': 24, 'TOSHIBA MD04ABA500V': 25, 'WDC WD10EACS': 26, 'WDC WD10EADS': 27, 'WDC WD10EADX': 28, 'WDC WD1600AAJS': 29, 'WDC WD20EFRX': 30, 'WDC WD30EFRX': 31, 'WDC WD3200AAJB': 32, 'WDC WD40EFRX': 33, 'WDC WD5000LPVX': 34, 'WDC WD60EFRX': 35, 'WDC WD800AAJS': 36}\n"
     ]
    }
   ],
   "source": [
    "model_map = dict(zip(hd_models.index.tolist(),range(len(hd_models)))) # map the model names to integers for convenience\n",
    "hd = hd.replace({'model': model_map})\n",
    "print(model_map)"
   ]
  },
  {
   "cell_type": "code",
   "execution_count": 15,
   "metadata": {
    "collapsed": false
   },
   "outputs": [],
   "source": [
    "#seagates = pd.DataFrame.copy(hd[hd['model'] == 'ST4000DM000']) # selected the most common seagate model\n",
    "aggregations = {\n",
    "    'day_of_year': { \n",
    "        'first_date': 'min',  \n",
    "        'last_date': 'max', \n",
    "        'uncensored_days': 'count',\n",
    "        'days': lambda x: max(x) - min(x)  \n",
    "    },\n",
    "    'smart_9_raw': { # smart 9 is the disk uptime\n",
    "        'runtime_max': 'max',  \n",
    "        'runtime_min': 'min',\n",
    "        'uptime': lambda x: max(x) - min(x)  \n",
    "    },\n",
    "    'model':{\n",
    "       'model_count': 'count',\n",
    "       'model': 'mean'\n",
    "    },\n",
    "    'failure': {\n",
    "     'failure': 'sum'\n",
    "    }  \n",
    "}\n",
    "survival = hd.groupby('serial_number').agg(aggregations).reset_index()\n",
    "survival.columns = survival.columns.droplevel()"
   ]
  },
  {
   "cell_type": "code",
   "execution_count": 16,
   "metadata": {
    "collapsed": false
   },
   "outputs": [
    {
     "name": "stdout",
     "output_type": "stream",
     "text": [
      "17    1552\n",
      "2      298\n",
      "5      190\n",
      "8      190\n",
      "3      130\n",
      "7      112\n",
      "20      87\n",
      "10      43\n",
      "31      34\n",
      "19      21\n",
      "34      15\n",
      "35      13\n",
      "13      13\n",
      "18      10\n",
      "27      10\n",
      "24       9\n",
      "29       6\n",
      "30       5\n",
      "0        5\n",
      "25       4\n",
      "15       4\n",
      "22       3\n",
      "21       3\n",
      "26       2\n",
      "23       2\n",
      "14       2\n",
      "33       1\n",
      "12       1\n",
      "4        1\n",
      "6        1\n",
      "16       1\n",
      "32       1\n",
      "11       1\n",
      "9        1\n",
      "28       1\n",
      "1        1\n",
      "36       1\n",
      "Name: model, dtype: int64\n"
     ]
    }
   ],
   "source": [
    "survival = survival.loc[survival['failure'] <=1 ] # fi the sum of failures is gt 1 then then the data is bad\n",
    "survival['runtime_max'] = survival['runtime_max']/8760.0 # hrs to yrs\n",
    "survival['runtime_min'] = survival['runtime_min']/8760.0\n",
    "print(survival['model'].value_counts())\n",
    "del survival['model_count']"
   ]
  },
  {
   "cell_type": "markdown",
   "metadata": {},
   "source": [
    "## Kaplan-Meier Modeling\n",
    "\n",
    " *    Kaplan-Meier is a non-parametric non-generalising maximum-likelihood estimate of the survival function, S(t), which is the probability of survival until time t.\n",
    " *   The data is left truncated: hard drives enter study interval at different times. So we use the 'entry' keyword (Did I interpret the lifelines documentation right?)\n",
    " *   If we had a parametric form of the survival function we could predict new unseen data and predict the relative impact on survival of various hard drive attributes...\n",
    "\n"
   ]
  },
  {
   "cell_type": "code",
   "execution_count": 19,
   "metadata": {
    "collapsed": false
   },
   "outputs": [
    {
     "ename": "AttributeError",
     "evalue": "'_process_plot_var_args' object has no attribute 'color_cycle'",
     "output_type": "error",
     "traceback": [
      "\u001b[0;31m---------------------------------------------------------------------------\u001b[0m",
      "\u001b[0;31mAttributeError\u001b[0m                            Traceback (most recent call last)",
      "\u001b[0;32m<ipython-input-19-a695b0edb11c>\u001b[0m in \u001b[0;36m<module>\u001b[0;34m()\u001b[0m\n\u001b[1;32m      3\u001b[0m \u001b[0mkm\u001b[0m\u001b[0;34m.\u001b[0m\u001b[0mfit\u001b[0m\u001b[0;34m(\u001b[0m\u001b[0mdurations\u001b[0m\u001b[0;34m=\u001b[0m\u001b[0msurvival\u001b[0m\u001b[0;34m[\u001b[0m\u001b[0;34m'runtime_max'\u001b[0m\u001b[0;34m]\u001b[0m\u001b[0;34m,\u001b[0m \u001b[0mevent_observed\u001b[0m\u001b[0;34m=\u001b[0m\u001b[0msurvival\u001b[0m\u001b[0;34m[\u001b[0m\u001b[0;34m'failure'\u001b[0m\u001b[0;34m]\u001b[0m\u001b[0;34m,\u001b[0m \u001b[0mentry\u001b[0m\u001b[0;34m=\u001b[0m\u001b[0msurvival\u001b[0m\u001b[0;34m[\u001b[0m\u001b[0;34m'runtime_min'\u001b[0m\u001b[0;34m]\u001b[0m\u001b[0;34m)\u001b[0m\u001b[0;34m\u001b[0m\u001b[0m\n\u001b[1;32m      4\u001b[0m \u001b[0mS\u001b[0m \u001b[0;34m=\u001b[0m \u001b[0mkm\u001b[0m\u001b[0;34m.\u001b[0m\u001b[0msurvival_function_\u001b[0m\u001b[0;34m\u001b[0m\u001b[0m\n\u001b[0;32m----> 5\u001b[0;31m \u001b[0max\u001b[0m \u001b[0;34m=\u001b[0m \u001b[0mkm\u001b[0m\u001b[0;34m.\u001b[0m\u001b[0mplot\u001b[0m\u001b[0;34m(\u001b[0m\u001b[0mtitle\u001b[0m\u001b[0;34m=\u001b[0m\u001b[0;34m\"Kaplan Meier fit\"\u001b[0m\u001b[0;34m,\u001b[0m \u001b[0mlegend\u001b[0m\u001b[0;34m=\u001b[0m\u001b[0;32mFalse\u001b[0m\u001b[0;34m)\u001b[0m\u001b[0;34m\u001b[0m\u001b[0m\n\u001b[0m\u001b[1;32m      6\u001b[0m \u001b[0max\u001b[0m\u001b[0;34m.\u001b[0m\u001b[0mannotate\u001b[0m\u001b[0;34m(\u001b[0m\u001b[0;34m'half-life'\u001b[0m\u001b[0;34m,\u001b[0m \u001b[0mcolor\u001b[0m\u001b[0;34m=\u001b[0m\u001b[0;34m'black'\u001b[0m\u001b[0;34m,\u001b[0m \u001b[0mxy\u001b[0m\u001b[0;34m=\u001b[0m\u001b[0;34m(\u001b[0m\u001b[0;36m0.01\u001b[0m\u001b[0;34m,\u001b[0m\u001b[0;36m0.5\u001b[0m\u001b[0;34m)\u001b[0m\u001b[0;34m,\u001b[0m \u001b[0mxycoords\u001b[0m\u001b[0;34m=\u001b[0m\u001b[0;34m'axes fraction'\u001b[0m\u001b[0;34m,\u001b[0m \u001b[0mxytext\u001b[0m\u001b[0;34m=\u001b[0m\u001b[0;34m(\u001b[0m\u001b[0;36m10\u001b[0m\u001b[0;34m,\u001b[0m\u001b[0;36m4\u001b[0m\u001b[0;34m)\u001b[0m\u001b[0;34m,\u001b[0m \u001b[0mtextcoords\u001b[0m\u001b[0;34m=\u001b[0m\u001b[0;34m'offset points'\u001b[0m\u001b[0;34m)\u001b[0m\u001b[0;34m\u001b[0m\u001b[0m\n\u001b[1;32m      7\u001b[0m \u001b[0max\u001b[0m\u001b[0;34m.\u001b[0m\u001b[0maxhline\u001b[0m\u001b[0;34m(\u001b[0m\u001b[0;36m.5\u001b[0m\u001b[0;34m,\u001b[0m \u001b[0mls\u001b[0m\u001b[0;34m=\u001b[0m\u001b[0;34m'--'\u001b[0m\u001b[0;34m,\u001b[0m \u001b[0mlw\u001b[0m\u001b[0;34m=\u001b[0m\u001b[0;36m1.0\u001b[0m\u001b[0;34m,\u001b[0m \u001b[0mcolor\u001b[0m\u001b[0;34m=\u001b[0m\u001b[0;34m'black'\u001b[0m\u001b[0;34m)\u001b[0m\u001b[0;34m\u001b[0m\u001b[0m\n",
      "\u001b[0;32m/home/alex/anaconda3/lib/python3.6/site-packages/lifelines/plotting.py\u001b[0m in \u001b[0;36mplot\u001b[0;34m(ix, iloc, flat, show_censors, censor_styles, ci_legend, ci_force_lines, ci_alpha, ci_show, bandwidth, **kwargs)\u001b[0m\n\u001b[1;32m    131\u001b[0m         \u001b[0;32mif\u001b[0m \u001b[0;34m\"ax\"\u001b[0m \u001b[0;32mnot\u001b[0m \u001b[0;32min\u001b[0m \u001b[0mkwargs\u001b[0m\u001b[0;34m:\u001b[0m\u001b[0;34m\u001b[0m\u001b[0m\n\u001b[1;32m    132\u001b[0m             \u001b[0mkwargs\u001b[0m\u001b[0;34m[\u001b[0m\u001b[0;34m\"ax\"\u001b[0m\u001b[0;34m]\u001b[0m \u001b[0;34m=\u001b[0m \u001b[0mplt\u001b[0m\u001b[0;34m.\u001b[0m\u001b[0mfigure\u001b[0m\u001b[0;34m(\u001b[0m\u001b[0;34m)\u001b[0m\u001b[0;34m.\u001b[0m\u001b[0madd_subplot\u001b[0m\u001b[0;34m(\u001b[0m\u001b[0;36m111\u001b[0m\u001b[0;34m)\u001b[0m\u001b[0;34m\u001b[0m\u001b[0m\n\u001b[0;32m--> 133\u001b[0;31m         \u001b[0mkwargs\u001b[0m\u001b[0;34m[\u001b[0m\u001b[0;34m'color'\u001b[0m\u001b[0;34m]\u001b[0m \u001b[0;34m=\u001b[0m \u001b[0mcoalesce\u001b[0m\u001b[0;34m(\u001b[0m\u001b[0mkwargs\u001b[0m\u001b[0;34m.\u001b[0m\u001b[0mget\u001b[0m\u001b[0;34m(\u001b[0m\u001b[0;34m'c'\u001b[0m\u001b[0;34m)\u001b[0m\u001b[0;34m,\u001b[0m \u001b[0mkwargs\u001b[0m\u001b[0;34m.\u001b[0m\u001b[0mget\u001b[0m\u001b[0;34m(\u001b[0m\u001b[0;34m'color'\u001b[0m\u001b[0;34m)\u001b[0m\u001b[0;34m,\u001b[0m \u001b[0mnext\u001b[0m\u001b[0;34m(\u001b[0m\u001b[0mkwargs\u001b[0m\u001b[0;34m[\u001b[0m\u001b[0;34m\"ax\"\u001b[0m\u001b[0;34m]\u001b[0m\u001b[0;34m.\u001b[0m\u001b[0m_get_lines\u001b[0m\u001b[0;34m.\u001b[0m\u001b[0mcolor_cycle\u001b[0m\u001b[0;34m)\u001b[0m\u001b[0;34m)\u001b[0m\u001b[0;34m\u001b[0m\u001b[0m\n\u001b[0m\u001b[1;32m    134\u001b[0m         \u001b[0mkwargs\u001b[0m\u001b[0;34m[\u001b[0m\u001b[0;34m'drawstyle'\u001b[0m\u001b[0;34m]\u001b[0m \u001b[0;34m=\u001b[0m \u001b[0mcoalesce\u001b[0m\u001b[0;34m(\u001b[0m\u001b[0mkwargs\u001b[0m\u001b[0;34m.\u001b[0m\u001b[0mget\u001b[0m\u001b[0;34m(\u001b[0m\u001b[0;34m'drawstyle'\u001b[0m\u001b[0;34m)\u001b[0m\u001b[0;34m,\u001b[0m \u001b[0;34m'steps-post'\u001b[0m\u001b[0;34m)\u001b[0m\u001b[0;34m\u001b[0m\u001b[0m\n\u001b[1;32m    135\u001b[0m \u001b[0;34m\u001b[0m\u001b[0m\n",
      "\u001b[0;31mAttributeError\u001b[0m: '_process_plot_var_args' object has no attribute 'color_cycle'"
     ]
    }
   ],
   "source": [
    "import lifelines as sa\n",
    "km = sa.KaplanMeierFitter()\n",
    "km.fit(durations=survival['runtime_max'], event_observed=survival['failure'], entry=survival['runtime_min'])\n",
    "S = km.survival_function_\n",
    "ax = km.plot(title=\"Kaplan Meier fit\", legend=False)\n",
    "ax.annotate('half-life', color='black', xy=(0.01,0.5), xycoords='axes fraction', xytext=(10,4), textcoords='offset points')\n",
    "ax.axhline(.5, ls='--', lw=1.0, color='black')\n",
    "ax.set_ylim([0,1])\n",
    "#ax.set_xlim([0,6])\n",
    "plt.show()"
   ]
  },
  {
   "cell_type": "markdown",
   "metadata": {},
   "source": [
    "## Hazard rates with Nelson-Aalen\n",
    " * The failure rate is the total number of failures within a population, divided by the total time expended by that population, during a particular measurement interval.\n",
    " * The hazard function or hazard rate is the failure rate calculated instantaneously.  \n",
    " * The cumulative hazard curve is a basic tool: it is the sum of failure rate estimates so it is much more stable than the point-wise instananeous estimates.\n",
    " * The hazard curve has a catch: the derivation involves a smoothing kernel smoother applied to the differences of the cumulative hazard curve), and thus it has a free parameter."
   ]
  },
  {
   "cell_type": "code",
   "execution_count": 20,
   "metadata": {
    "collapsed": false,
    "scrolled": true
   },
   "outputs": [
    {
     "ename": "AttributeError",
     "evalue": "'_process_plot_var_args' object has no attribute 'color_cycle'",
     "output_type": "error",
     "traceback": [
      "\u001b[0;31m---------------------------------------------------------------------------\u001b[0m",
      "\u001b[0;31mAttributeError\u001b[0m                            Traceback (most recent call last)",
      "\u001b[0;32m<ipython-input-20-67addf12f4e6>\u001b[0m in \u001b[0;36m<module>\u001b[0;34m()\u001b[0m\n\u001b[1;32m      4\u001b[0m \u001b[0mnaf\u001b[0m\u001b[0;34m.\u001b[0m\u001b[0mfit\u001b[0m\u001b[0;34m(\u001b[0m\u001b[0mseagate\u001b[0m\u001b[0;34m[\u001b[0m\u001b[0;34m'runtime_max'\u001b[0m\u001b[0;34m]\u001b[0m\u001b[0;34m,\u001b[0m \u001b[0mseagate\u001b[0m\u001b[0;34m[\u001b[0m\u001b[0;34m'failure'\u001b[0m\u001b[0;34m]\u001b[0m\u001b[0;34m,\u001b[0m \u001b[0mentry\u001b[0m\u001b[0;34m=\u001b[0m\u001b[0mseagate\u001b[0m\u001b[0;34m[\u001b[0m\u001b[0;34m'runtime_min'\u001b[0m\u001b[0;34m]\u001b[0m\u001b[0;34m,\u001b[0m \u001b[0mlabel\u001b[0m\u001b[0;34m=\u001b[0m\u001b[0;34m'Seagate ST4000DM000'\u001b[0m\u001b[0;34m)\u001b[0m\u001b[0;34m\u001b[0m\u001b[0m\n\u001b[1;32m      5\u001b[0m \u001b[0mfig\u001b[0m\u001b[0;34m,\u001b[0m \u001b[0maxes\u001b[0m \u001b[0;34m=\u001b[0m \u001b[0mplt\u001b[0m\u001b[0;34m.\u001b[0m\u001b[0msubplots\u001b[0m\u001b[0;34m(\u001b[0m\u001b[0mnrows\u001b[0m\u001b[0;34m=\u001b[0m\u001b[0;36m1\u001b[0m\u001b[0;34m,\u001b[0m \u001b[0mncols\u001b[0m\u001b[0;34m=\u001b[0m\u001b[0;36m1\u001b[0m\u001b[0;34m,\u001b[0m \u001b[0msqueeze\u001b[0m\u001b[0;34m=\u001b[0m\u001b[0;32mFalse\u001b[0m\u001b[0;34m,\u001b[0m \u001b[0msharex\u001b[0m\u001b[0;34m=\u001b[0m\u001b[0;32mTrue\u001b[0m\u001b[0;34m,\u001b[0m \u001b[0msharey\u001b[0m\u001b[0;34m=\u001b[0m\u001b[0;32mTrue\u001b[0m\u001b[0;34m)\u001b[0m\u001b[0;34m\u001b[0m\u001b[0m\n\u001b[0;32m----> 6\u001b[0;31m \u001b[0mnaf\u001b[0m\u001b[0;34m.\u001b[0m\u001b[0mplot\u001b[0m\u001b[0;34m(\u001b[0m\u001b[0max\u001b[0m\u001b[0;34m=\u001b[0m\u001b[0maxes\u001b[0m\u001b[0;34m[\u001b[0m\u001b[0;36m0\u001b[0m\u001b[0;34m,\u001b[0m\u001b[0;36m0\u001b[0m\u001b[0;34m]\u001b[0m\u001b[0;34m,\u001b[0m\u001b[0mtitle\u001b[0m\u001b[0;34m=\u001b[0m\u001b[0;34m\"Cumulative Hazard Rate\"\u001b[0m\u001b[0;34m)\u001b[0m\u001b[0;34m\u001b[0m\u001b[0m\n\u001b[0m\u001b[1;32m      7\u001b[0m \u001b[0mplt\u001b[0m\u001b[0;34m.\u001b[0m\u001b[0mshow\u001b[0m\u001b[0;34m(\u001b[0m\u001b[0;34m)\u001b[0m\u001b[0;34m\u001b[0m\u001b[0m\n\u001b[1;32m      8\u001b[0m \u001b[0;34m\u001b[0m\u001b[0m\n",
      "\u001b[0;32m/home/alex/anaconda3/lib/python3.6/site-packages/lifelines/plotting.py\u001b[0m in \u001b[0;36mplot\u001b[0;34m(ix, iloc, flat, show_censors, censor_styles, ci_legend, ci_force_lines, ci_alpha, ci_show, bandwidth, **kwargs)\u001b[0m\n\u001b[1;32m    131\u001b[0m         \u001b[0;32mif\u001b[0m \u001b[0;34m\"ax\"\u001b[0m \u001b[0;32mnot\u001b[0m \u001b[0;32min\u001b[0m \u001b[0mkwargs\u001b[0m\u001b[0;34m:\u001b[0m\u001b[0;34m\u001b[0m\u001b[0m\n\u001b[1;32m    132\u001b[0m             \u001b[0mkwargs\u001b[0m\u001b[0;34m[\u001b[0m\u001b[0;34m\"ax\"\u001b[0m\u001b[0;34m]\u001b[0m \u001b[0;34m=\u001b[0m \u001b[0mplt\u001b[0m\u001b[0;34m.\u001b[0m\u001b[0mfigure\u001b[0m\u001b[0;34m(\u001b[0m\u001b[0;34m)\u001b[0m\u001b[0;34m.\u001b[0m\u001b[0madd_subplot\u001b[0m\u001b[0;34m(\u001b[0m\u001b[0;36m111\u001b[0m\u001b[0;34m)\u001b[0m\u001b[0;34m\u001b[0m\u001b[0m\n\u001b[0;32m--> 133\u001b[0;31m         \u001b[0mkwargs\u001b[0m\u001b[0;34m[\u001b[0m\u001b[0;34m'color'\u001b[0m\u001b[0;34m]\u001b[0m \u001b[0;34m=\u001b[0m \u001b[0mcoalesce\u001b[0m\u001b[0;34m(\u001b[0m\u001b[0mkwargs\u001b[0m\u001b[0;34m.\u001b[0m\u001b[0mget\u001b[0m\u001b[0;34m(\u001b[0m\u001b[0;34m'c'\u001b[0m\u001b[0;34m)\u001b[0m\u001b[0;34m,\u001b[0m \u001b[0mkwargs\u001b[0m\u001b[0;34m.\u001b[0m\u001b[0mget\u001b[0m\u001b[0;34m(\u001b[0m\u001b[0;34m'color'\u001b[0m\u001b[0;34m)\u001b[0m\u001b[0;34m,\u001b[0m \u001b[0mnext\u001b[0m\u001b[0;34m(\u001b[0m\u001b[0mkwargs\u001b[0m\u001b[0;34m[\u001b[0m\u001b[0;34m\"ax\"\u001b[0m\u001b[0;34m]\u001b[0m\u001b[0;34m.\u001b[0m\u001b[0m_get_lines\u001b[0m\u001b[0;34m.\u001b[0m\u001b[0mcolor_cycle\u001b[0m\u001b[0;34m)\u001b[0m\u001b[0;34m)\u001b[0m\u001b[0;34m\u001b[0m\u001b[0m\n\u001b[0m\u001b[1;32m    134\u001b[0m         \u001b[0mkwargs\u001b[0m\u001b[0;34m[\u001b[0m\u001b[0;34m'drawstyle'\u001b[0m\u001b[0;34m]\u001b[0m \u001b[0;34m=\u001b[0m \u001b[0mcoalesce\u001b[0m\u001b[0;34m(\u001b[0m\u001b[0mkwargs\u001b[0m\u001b[0;34m.\u001b[0m\u001b[0mget\u001b[0m\u001b[0;34m(\u001b[0m\u001b[0;34m'drawstyle'\u001b[0m\u001b[0;34m)\u001b[0m\u001b[0;34m,\u001b[0m \u001b[0;34m'steps-post'\u001b[0m\u001b[0;34m)\u001b[0m\u001b[0;34m\u001b[0m\u001b[0m\n\u001b[1;32m    135\u001b[0m \u001b[0;34m\u001b[0m\u001b[0m\n",
      "\u001b[0;31mAttributeError\u001b[0m: '_process_plot_var_args' object has no attribute 'color_cycle'"
     ]
    }
   ],
   "source": [
    "from lifelines import NelsonAalenFitter\n",
    "naf = NelsonAalenFitter()\n",
    "seagate = survival.loc[survival['model'] == model_map['ST4000DM000']]\n",
    "naf.fit(seagate['runtime_max'], seagate['failure'], entry=seagate['runtime_min'], label='Seagate ST4000DM000')\n",
    "fig, axes = plt.subplots(nrows=1, ncols=1, squeeze=False, sharex=True, sharey=True)\n",
    "naf.plot(ax=axes[0,0],title=\"Cumulative Hazard Rate\")\n",
    "plt.show()\n",
    "\n",
    "haz = naf.smoothed_hazard_\n",
    "smoothing_bandwidth_time=1.2\n",
    "q = haz(smoothing_bandwidth_time)\n",
    "mean_haz = np.mean( q[q.columns[0]])\n",
    "\n",
    "ax = naf.plot_hazard(bandwidth=smoothing_bandwidth_time, title = \"Hazard Rate\")\n",
    "ax.axhline(mean_haz , ls='--', lw=1.0, color='black')\n",
    "haz_str = str(100*np.round(mean_haz,4)) + \"%\"\n",
    "ax.annotate(haz_str, color='black', xy=(0.01,mean_haz), xytext=(10,4), textcoords='offset points')\n",
    "plt.show()\n",
    "print(\"The failure rate for these seagate drives is %s\" % haz_str)"
   ]
  },
  {
   "cell_type": "markdown",
   "metadata": {},
   "source": [
    "### That was a lot of work to get basically the same failure rate that we calculated all the way back at the begining. Further survival regression analyis would be useful, but lets move on from survival analysis for now and ask another question.\n",
    "\n",
    "##  Predict which hard drives will fail given the hard drive statistics?\n",
    " * So there isn't a lot of information about drive failures, but can we at least find what hard drive diagnostics (the smart values) are preddictive of a hard drive failure?\n",
    " * Most of the data columns are S.M.A.R.T. values that can vary in meaning based on the manufacturer and model. For this reason at this time limit the more in depth analysis to the most common identical drive model. "
   ]
  },
  {
   "cell_type": "code",
   "execution_count": 22,
   "metadata": {
    "collapsed": false
   },
   "outputs": [
    {
     "name": "stdout",
     "output_type": "stream",
     "text": [
      "(182000, 96)\n",
      "capacity_tb  has a NaN fraction of:\t 0.0\n",
      "day_of_year  has a NaN fraction of:\t 0.0\n",
      "failure  has a NaN fraction of:\t 0.0\n",
      "model  has a NaN fraction of:\t 0.0\n",
      "serial_number  has a NaN fraction of:\t 0.0\n",
      "smart_10_normalized  has a NaN fraction of:\t 0.0\n",
      "smart_10_raw  has a NaN fraction of:\t 0.0\n",
      "smart_11_normalized  has a NaN fraction of:\t 0.967373626374\n",
      "smart_11_raw  has a NaN fraction of:\t 0.967373626374\n",
      "smart_12_normalized  has a NaN fraction of:\t 0.0\n",
      "smart_12_raw  has a NaN fraction of:\t 0.0\n",
      "smart_183_normalized  has a NaN fraction of:\t 0.416697802198\n",
      "smart_183_raw  has a NaN fraction of:\t 0.416697802198\n",
      "smart_184_normalized  has a NaN fraction of:\t 0.413450549451\n",
      "smart_184_raw  has a NaN fraction of:\t 0.413450549451\n",
      "smart_187_normalized  has a NaN fraction of:\t 0.413450549451\n",
      "smart_187_raw  has a NaN fraction of:\t 0.413450549451\n",
      "smart_188_normalized  has a NaN fraction of:\t 0.413450549451\n",
      "smart_188_raw  has a NaN fraction of:\t 0.413450549451\n",
      "smart_189_normalized  has a NaN fraction of:\t 0.413450549451\n",
      "smart_189_raw  has a NaN fraction of:\t 0.413450549451\n",
      "smart_190_normalized  has a NaN fraction of:\t 0.413450549451\n",
      "smart_190_raw  has a NaN fraction of:\t 0.413450549451\n",
      "smart_191_normalized  has a NaN fraction of:\t 0.405994505495\n",
      "smart_191_raw  has a NaN fraction of:\t 0.405994505495\n",
      "smart_192_normalized  has a NaN fraction of:\t 0.00524725274725\n",
      "smart_192_raw  has a NaN fraction of:\t 0.00524725274725\n",
      "smart_193_normalized  has a NaN fraction of:\t 0.0122032967033\n",
      "smart_193_raw  has a NaN fraction of:\t 0.0122032967033\n",
      "smart_194_normalized  has a NaN fraction of:\t 0.0\n",
      "smart_194_raw  has a NaN fraction of:\t 0.0\n",
      "smart_195_normalized  has a NaN fraction of:\t 0.948\n",
      "smart_195_raw  has a NaN fraction of:\t 0.948\n",
      "smart_196_normalized  has a NaN fraction of:\t 0.586549450549\n",
      "smart_196_raw  has a NaN fraction of:\t 0.586549450549\n",
      "smart_197_normalized  has a NaN fraction of:\t 0.0\n",
      "smart_197_raw  has a NaN fraction of:\t 0.0\n",
      "smart_198_normalized  has a NaN fraction of:\t 0.0\n",
      "smart_198_raw  has a NaN fraction of:\t 0.0\n",
      "smart_199_normalized  has a NaN fraction of:\t 0.0\n",
      "smart_199_raw  has a NaN fraction of:\t 0.0\n",
      "smart_1_normalized  has a NaN fraction of:\t 0.0\n",
      "smart_1_raw  has a NaN fraction of:\t 0.0\n",
      "smart_200_normalized  has a NaN fraction of:\t 0.967373626374\n",
      "smart_200_raw  has a NaN fraction of:\t 0.967373626374\n",
      "smart_220_normalized  has a NaN fraction of:\t 0.995076923077\n",
      "smart_220_raw  has a NaN fraction of:\t 0.995076923077\n",
      "smart_222_normalized  has a NaN fraction of:\t 0.995076923077\n",
      "smart_222_raw  has a NaN fraction of:\t 0.995076923077\n",
      "smart_223_normalized  has a NaN fraction of:\t 0.988120879121\n",
      "smart_223_raw  has a NaN fraction of:\t 0.988120879121\n",
      "smart_224_normalized  has a NaN fraction of:\t 0.995076923077\n",
      "smart_224_raw  has a NaN fraction of:\t 0.995076923077\n",
      "smart_225_normalized  has a NaN fraction of:\t 0.993043956044\n",
      "smart_225_raw  has a NaN fraction of:\t 0.993043956044\n",
      "smart_226_normalized  has a NaN fraction of:\t 0.995076923077\n",
      "smart_226_raw  has a NaN fraction of:\t 0.995076923077\n",
      "smart_22_normalized  has a NaN fraction of:\t 0.9995\n",
      "smart_22_raw  has a NaN fraction of:\t 0.9995\n",
      "smart_240_normalized  has a NaN fraction of:\t 0.410714285714\n",
      "smart_240_raw  has a NaN fraction of:\t 0.410714285714\n",
      "smart_241_normalized  has a NaN fraction of:\t 0.416197802198\n",
      "smart_241_raw  has a NaN fraction of:\t 0.416197802198\n",
      "smart_242_normalized  has a NaN fraction of:\t 0.416197802198\n",
      "smart_242_raw  has a NaN fraction of:\t 0.416197802198\n",
      "smart_250_normalized  has a NaN fraction of:\t 0.9995\n",
      "smart_250_raw  has a NaN fraction of:\t 0.9995\n",
      "smart_251_normalized  has a NaN fraction of:\t 0.9995\n",
      "smart_251_raw  has a NaN fraction of:\t 0.9995\n",
      "smart_252_normalized  has a NaN fraction of:\t 0.9995\n",
      "smart_252_raw  has a NaN fraction of:\t 0.9995\n",
      "smart_254_normalized  has a NaN fraction of:\t 0.997241758242\n",
      "smart_254_raw  has a NaN fraction of:\t 0.997241758242\n",
      "smart_2_normalized  has a NaN fraction of:\t 0.61221978022\n",
      "smart_2_raw  has a NaN fraction of:\t 0.61221978022\n",
      "smart_3_normalized  has a NaN fraction of:\t 0.0\n",
      "smart_3_raw  has a NaN fraction of:\t 0.0\n",
      "smart_4_normalized  has a NaN fraction of:\t 0.0\n",
      "smart_4_raw  has a NaN fraction of:\t 0.0\n",
      "smart_5_normalized  has a NaN fraction of:\t 0.0\n",
      "smart_5_raw  has a NaN fraction of:\t 0.0\n",
      "smart_7_normalized  has a NaN fraction of:\t 0.0\n",
      "smart_7_raw  has a NaN fraction of:\t 0.0\n",
      "smart_8_normalized  has a NaN fraction of:\t 0.61221978022\n",
      "smart_8_raw  has a NaN fraction of:\t 0.61221978022\n",
      "smart_9_normalized  has a NaN fraction of:\t 0.0\n",
      "smart_9_raw  has a NaN fraction of:\t 0.0\n",
      "(182000, 87)\n",
      "Index(['capacity_tb', 'day_of_year', 'failure', 'model', 'serial_number',\n",
      "       'smart_10_normalized', 'smart_10_raw', 'smart_11_normalized',\n",
      "       'smart_11_raw', 'smart_12_normalized', 'smart_12_raw',\n",
      "       'smart_183_normalized', 'smart_183_raw', 'smart_184_normalized',\n",
      "       'smart_184_raw', 'smart_187_normalized', 'smart_187_raw',\n",
      "       'smart_188_normalized', 'smart_188_raw', 'smart_189_normalized',\n",
      "       'smart_189_raw', 'smart_190_normalized', 'smart_190_raw',\n",
      "       'smart_191_normalized', 'smart_191_raw', 'smart_192_normalized',\n",
      "       'smart_192_raw', 'smart_193_normalized', 'smart_193_raw',\n",
      "       'smart_194_normalized', 'smart_194_raw', 'smart_195_normalized',\n",
      "       'smart_195_raw', 'smart_196_normalized', 'smart_196_raw',\n",
      "       'smart_197_normalized', 'smart_197_raw', 'smart_198_normalized',\n",
      "       'smart_198_raw', 'smart_199_normalized', 'smart_199_raw',\n",
      "       'smart_1_normalized', 'smart_1_raw', 'smart_200_normalized',\n",
      "       'smart_200_raw', 'smart_220_normalized', 'smart_220_raw',\n",
      "       'smart_222_normalized', 'smart_222_raw', 'smart_223_normalized',\n",
      "       'smart_223_raw', 'smart_224_normalized', 'smart_224_raw',\n",
      "       'smart_225_normalized', 'smart_225_raw', 'smart_226_normalized',\n",
      "       'smart_226_raw', 'smart_22_normalized', 'smart_22_raw',\n",
      "       'smart_240_normalized', 'smart_240_raw', 'smart_241_normalized',\n",
      "       'smart_241_raw', 'smart_242_normalized', 'smart_242_raw',\n",
      "       'smart_250_normalized', 'smart_250_raw', 'smart_251_normalized',\n",
      "       'smart_251_raw', 'smart_252_normalized', 'smart_252_raw',\n",
      "       'smart_254_normalized', 'smart_254_raw', 'smart_2_normalized',\n",
      "       'smart_2_raw', 'smart_3_normalized', 'smart_3_raw',\n",
      "       'smart_4_normalized', 'smart_4_raw', 'smart_5_normalized',\n",
      "       'smart_5_raw', 'smart_7_normalized', 'smart_7_raw',\n",
      "       'smart_8_normalized', 'smart_8_raw', 'smart_9_normalized',\n",
      "       'smart_9_raw'],\n",
      "      dtype='object')\n"
     ]
    }
   ],
   "source": [
    "#seagates = pd.DataFrame.copy(hd[hd['model'] == 'ST4000DM000']) # select only the most common seagate model\n",
    "print(np.shape(hd))\n",
    "# Some columns have just a few NaNs, while others are all NaNs\n",
    "# drop columns of all nan\n",
    "hd_clean = hd.dropna(axis=1, how='all')\n",
    "# but lets avoid losing columns that potentially have lots of information\n",
    "# in particular if the fraction of nans is greater than nan_frac, then drop\n",
    "nan_frac = .3\n",
    "for ikey in hd_clean.keys():\n",
    "    tmp = hd_clean[ikey].isnull().sum()\n",
    "    print(ikey, \" has a NaN fraction of:\\t\", tmp/len(hd_clean))\n",
    "    if tmp/len(hd_clean) >= nan_frac:\n",
    "        hdcl = hd_clean.drop(ikey, 1)\n",
    "\n",
    "# put zeros in the NaN locations we kept\n",
    "hd_clean = hd_clean.fillna(0)\n",
    "\n",
    "for ikey in hd_clean.keys():\n",
    "    tmp = hd_clean[ikey].isnull().sum()\n",
    "    if tmp > 0:\n",
    "        print(\"Warning, there shouldn't be any NaNs but there are in %s\" % ikey)\n",
    "\n",
    "y = hd_clean.failure\n",
    "print(np.shape(hd_clean))\n",
    "print(hd_clean.columns)"
   ]
  },
  {
   "cell_type": "markdown",
   "metadata": {},
   "source": [
    "### Get just the \"raw\" columns"
   ]
  },
  {
   "cell_type": "code",
   "execution_count": 24,
   "metadata": {
    "collapsed": false
   },
   "outputs": [
    {
     "name": "stdout",
     "output_type": "stream",
     "text": [
      "(182000, 41)\n",
      "Index(['smart_10_raw', 'smart_11_raw', 'smart_12_raw', 'smart_183_raw',\n",
      "       'smart_184_raw', 'smart_187_raw', 'smart_188_raw', 'smart_189_raw',\n",
      "       'smart_190_raw', 'smart_191_raw', 'smart_192_raw', 'smart_193_raw',\n",
      "       'smart_194_raw', 'smart_195_raw', 'smart_196_raw', 'smart_197_raw',\n",
      "       'smart_198_raw', 'smart_199_raw', 'smart_1_raw', 'smart_200_raw',\n",
      "       'smart_220_raw', 'smart_222_raw', 'smart_223_raw', 'smart_224_raw',\n",
      "       'smart_225_raw', 'smart_226_raw', 'smart_22_raw', 'smart_240_raw',\n",
      "       'smart_241_raw', 'smart_242_raw', 'smart_250_raw', 'smart_251_raw',\n",
      "       'smart_252_raw', 'smart_254_raw', 'smart_2_raw', 'smart_3_raw',\n",
      "       'smart_4_raw', 'smart_5_raw', 'smart_7_raw', 'smart_8_raw',\n",
      "       'smart_9_raw'],\n",
      "      dtype='object')\n"
     ]
    }
   ],
   "source": [
    "def clip_by_column_txt(df, col_txt):\n",
    "    for ikey in df.keys():\n",
    "        if col_txt not in ikey:\n",
    "            del df[ikey]\n",
    "\n",
    "clip_by_column_txt(hd_clean,\"raw\") # select raw columns only\n",
    "\n",
    "print(np.shape(hd_clean))\n",
    "print(hd_clean.columns)\n",
    "#sel = VarianceThreshold(threshold=.01)  # remove the features with variance below threshold.\n",
    "#sel.fit_transform(hd)\n",
    "#print(hdcl.head(3))"
   ]
  },
  {
   "cell_type": "markdown",
   "metadata": {},
   "source": [
    "### There are a few ways you could decide to clip the important features... "
   ]
  },
  {
   "cell_type": "code",
   "execution_count": null,
   "metadata": {
    "collapsed": false
   },
   "outputs": [],
   "source": [
    "# Use forest classifier to find important features\n",
    "forest = ExtraTreesClassifier(n_estimators=250, random_state=0)\n",
    "forest.fit(hd_clean, y)\n",
    "importance = forest.feature_importances_\n",
    "std_err = np.std([tree.feature_importances_ for tree in forest.estimators_], axis=0)\n",
    "# get the indices and sort the labels of the important features\n",
    "indices = np.argsort(importance)[::-1]\n",
    "#print(hdcl.columns[indices])\n",
    "x_labels = hd_clean.columns[indices]\n",
    "x_labels = x_labels[indices]\n",
    "importance = importance[indices]\n",
    "std_err = std_err[indices]\n",
    "#x_labels = [x for (y, x) in sorted(zip(importance, hdcl.columns))][::-1]"
   ]
  },
  {
   "cell_type": "code",
   "execution_count": null,
   "metadata": {
    "collapsed": false
   },
   "outputs": [],
   "source": [
    "print(\"Feature ranking:\")\n",
    "for f in range(hd_clean.shape[1]):\n",
    "    print(\"Rank %d: %s (%f)\" % (f + 1, x_labels[f], importance[f]))"
   ]
  },
  {
   "cell_type": "markdown",
   "metadata": {},
   "source": [
    "### In the plot the dashed line is the median of the importance which is the chosen threshold."
   ]
  },
  {
   "cell_type": "code",
   "execution_count": null,
   "metadata": {
    "collapsed": false
   },
   "outputs": [],
   "source": [
    "# clip the features to the most important ones\n",
    "thresh = np.median(importance)\n",
    "clip_importance = importance[np.where(importance >= thresh)]\n",
    "clip_std_err = std_err[np.where(importance >= thresh)]\n",
    "clip_x_labels = x_labels[np.where(importance >= thresh)]\n",
    "clip_l = len(clip_importance)\n",
    "#for i in range(len(clip_indices)):\n",
    "#    print(\"%d. clipped feature %s (%f)\" % (i + 1, clip_x_labels[i], clip_importance[i]))\n",
    "sn_colors = sns.color_palette()\n",
    "plt.figure()\n",
    "plt.title(\"Feature Importances\")\n",
    "plt.bar(range(clip_l), clip_importance, color=sn_colors[1],\n",
    "        yerr=clip_std_err, align=\"center\")\n",
    "# Plot the mean line, below using SelectFromModel we will clip features below this value\n",
    "plt.axhline(thresh, ls='--', lw=2.0, color='black', alpha=99)\n",
    "plt.xticks(range(clip_l), clip_x_labels, rotation=80)\n",
    "plt.xlim([-1, clip_l])\n",
    "plt.ylim([0, .5])\n",
    "plt.show()"
   ]
  },
  {
   "cell_type": "code",
   "execution_count": null,
   "metadata": {
    "collapsed": true
   },
   "outputs": [],
   "source": []
  },
  {
   "cell_type": "code",
   "execution_count": null,
   "metadata": {
    "collapsed": true
   },
   "outputs": [],
   "source": []
  },
  {
   "cell_type": "code",
   "execution_count": null,
   "metadata": {
    "collapsed": true
   },
   "outputs": [],
   "source": []
  }
 ],
 "metadata": {
  "anaconda-cloud": {},
  "kernelspec": {
   "display_name": "Python 3",
   "language": "python",
   "name": "python3"
  },
  "language_info": {
   "codemirror_mode": {
    "name": "ipython",
    "version": 3
   },
   "file_extension": ".py",
   "mimetype": "text/x-python",
   "name": "python",
   "nbconvert_exporter": "python",
   "pygments_lexer": "ipython3",
   "version": "3.6.0"
  }
 },
 "nbformat": 4,
 "nbformat_minor": 1
}
