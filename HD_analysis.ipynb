{
 "cells": [
  {
   "cell_type": "markdown",
   "metadata": {},
   "source": [
    "# Disk Failure Analysis\n",
    " * A preliminary analyis of hard drives 2016 from Backblaze. This dataset contains basic hard drive information and 90 columns of raw and normalized values of 45 different S.M.A.R.T. statistics. Each row represents a daily snapshot of one hard drive.\n",
    " * code source: https://github.com/bastidas/disk_analysis\n",
    " * data source: https://www.backblaze.com/b2/hard-drive-test-data.html\n",
    " * alexander.bastidas.fry@gmail.com"
   ]
  },
  {
   "cell_type": "code",
   "execution_count": 1,
   "metadata": {
    "collapsed": false
   },
   "outputs": [
    {
     "name": "stdout",
     "output_type": "stream",
     "text": [
      "Shape of hd data:  (182000, 95)\n",
      "There are 2774 unique drives. \n",
      "There are 37 unique models. \n",
      "There are 91 unique dates. \n",
      "There are 11 failures.\n"
     ]
    }
   ],
   "source": [
    "import os\n",
    "import sys\n",
    "import math\n",
    "import struct\n",
    "import pandas as pd\n",
    "import numpy as np\n",
    "import seaborn as sns\n",
    "import matplotlib.pyplot as plt\n",
    "from sklearn.decomposition import PCA\n",
    "from sklearn.preprocessing import RobustScaler\n",
    "from sklearn.preprocessing import StandardScaler\n",
    "from sklearn.ensemble import ExtraTreesClassifier\n",
    "from sklearn.ensemble import RandomForestClassifier\n",
    "from sklearn.model_selection import train_test_split\n",
    "from sklearn.feature_selection import SelectFromModel\n",
    "from sklearn.feature_selection import VarianceThreshold\n",
    "from sklearn.discriminant_analysis import LinearDiscriminantAnalysis\n",
    "\n",
    "dir = \"/home/alex/Downloads/data_Q1_2016/\"\n",
    "yr = '2016'\n",
    "hd = pd.DataFrame()\n",
    "for file in os.listdir(dir): # loading 78 indivual data files\n",
    "    temp = pd.read_csv(dir+file, header=0,nrows=2000) # my laptop is struggling to handle more rows\n",
    "    hd = hd.append(temp)\n",
    "print(\"Shape of hd data: \", np.shape(hd))\n",
    "print(\"There are %d unique drives. \" % hd['serial_number'].value_counts().count())\n",
    "print(\"There are %d unique models. \" % hd['model'].value_counts().count())\n",
    "print(\"There are %d unique dates. \" % hd['date'].value_counts().count())\n",
    "print(\"There are %d failures.\" % hd['failure'].sum())"
   ]
  },
  {
   "cell_type": "markdown",
   "metadata": {},
   "source": []
  },
  {
   "cell_type": "code",
   "execution_count": 2,
   "metadata": {
    "collapsed": false
   },
   "outputs": [
    {
     "name": "stdout",
     "output_type": "stream",
     "text": [
      "capacity_tb\n",
      "0.080026        22\n",
      "0.160042       773\n",
      "0.250059       153\n",
      "0.320073       399\n",
      "0.500108      1982\n",
      "1.000205        90\n",
      "1.500302       581\n",
      "2.000399     13972\n",
      "3.000593     18771\n",
      "4.000787    138025\n",
      "5.000981       295\n",
      "6.001175      6846\n",
      "8.001563        91\n",
      "dtype: int64\n"
     ]
    }
   ],
   "source": [
    "def tb_capacity(x):\n",
    "    \"\"\"\n",
    "    1 gig is np.power(2, 30) bytes, but maybe it is 10^9 bytes. Who you asking? Whatever.\n",
    "    \"\"\"\n",
    "    tb = np.power(10, 12)\n",
    "    #if not math.isnan(x):\n",
    "    return x/tb\n",
    "\n",
    "hd.capacity_bytes = hd.capacity_bytes.map(tb_capacity)\n",
    "hd.rename(columns={'capacity_bytes': 'capacity_tb'}, inplace=True)\n",
    "print(hd.groupby('capacity_tb').size()) # looks like the capacity is stored irregularly"
   ]
  },
  {
   "cell_type": "code",
   "execution_count": 3,
   "metadata": {
    "collapsed": false
   },
   "outputs": [],
   "source": [
    "hd.loc[:, 'date'] = pd.to_datetime(hd.loc[:, 'date'])\n",
    "hd.loc[:, 'date'] = hd.loc[:, 'date'] .dt.dayofyear\n",
    "hd.rename(columns={'date': 'day_of_year'}, inplace=True)"
   ]
  },
  {
   "cell_type": "code",
   "execution_count": 24,
   "metadata": {
    "collapsed": true
   },
   "outputs": [],
   "source": [
    "### Make a summary data frame by model "
   ]
  },
  {
   "cell_type": "code",
   "execution_count": 5,
   "metadata": {
    "collapsed": false
   },
   "outputs": [
    {
     "name": "stdout",
     "output_type": "stream",
     "text": [
      "                  model      size  count  obs_days  drive_hours  failures  \\\n",
      "0  HGST HDS5C4040ALE630  4.000787    5.0     300.0       7196.0       0.0   \n",
      "1  HGST HDS724040ALE640  4.000787    1.0      90.0       2159.0       0.0   \n",
      "2  HGST HMS5C4040ALE640  4.000787  298.0   20629.0     494863.0       1.0   \n",
      "\n",
      "   failure_rate  percent_total  \n",
      "0      0.000000       0.001802  \n",
      "1      0.000000       0.000360  \n",
      "2      1.770187       0.107426  \n"
     ]
    }
   ],
   "source": [
    "aggregations = {\n",
    "    'failure': {\n",
    "     'failure': 'sum'\n",
    "    },\n",
    "    'capacity_tb':{\n",
    "        'mean_cap': 'mean'\n",
    "    },\n",
    "    'day_of_year': { \n",
    "        #'first_date': 'min',  \n",
    "        #'last_date': 'max', \n",
    "        #'uncensored_days': 'count',\n",
    "        'days': lambda x: max(x) - min(x)  \n",
    "    },\n",
    "    'smart_9_raw': { # smart 9 is the disk uptime\n",
    "        'runtime_max': 'max',  \n",
    "        'runtime_min': 'min',\n",
    "        'uptime': lambda x: max(x) - min(x)  \n",
    "    }    \n",
    "}\n",
    "\n",
    "by_model_serial = hd.groupby(['model', 'serial_number']).agg(aggregations)#.reset_index()\n",
    "by_model_serial.columns = by_model_serial.columns.droplevel()\n",
    "\n",
    "models = by_model_serial.index.levels[0].tolist()\n",
    "\n",
    "#manufacturer, model, size, count, drive_days, drive_hours, \n",
    "#failures, failure_rate, percent_total\n",
    "\n",
    "summary_cols = ['model', 'size', 'count', 'drive_days', \n",
    "                'drive_hours', 'failures', 'failure_rate', 'percent_total']\n",
    "### The annualized failure rate is: 100 * Failures/(Drive Days/365) \n",
    "summary_cols = ['model', 'size', 'count', 'obs_days', 'drive_hours', 'failures', 'failure_rate', 'percent_total']\n",
    "summary = pd.DataFrame([], columns=summary_cols)\n",
    "ntot_drives = hd['serial_number'].value_counts().count()\n",
    "\n",
    "for i in models:\n",
    "    tmp = by_model_serial.xs(i)\n",
    "    #print('model', i, '\\n', 'unique_serials:', len(tmp), 'uptime: ', np.sum(tmp['uptime']), 'failures: ',  np.sum(tmp['failure']))\n",
    "    nfailures = np.sum(tmp['failure'])\n",
    "    drive_hours = 1.0+np.sum(tmp['uptime'])\n",
    "    f_rate = 100.0 * nfailures/(drive_hours/8760.0) \n",
    "    df_tmp = pd.DataFrame([[i, np.mean(tmp['mean_cap']), len(tmp),  np.sum(tmp['days']),drive_hours, nfailures, f_rate, len(tmp)/ntot_drives]], columns=summary_cols)\n",
    "    summary = summary.append(df_tmp, ignore_index=True)\n",
    "\n",
    "print(summary.head(3))\n",
    "  "
   ]
  },
  {
   "cell_type": "code",
   "execution_count": 6,
   "metadata": {
    "collapsed": false
   },
   "outputs": [
    {
     "name": "stdout",
     "output_type": "stream",
     "text": [
      "0 : HGST HDS5C4040ALE630\n",
      "1 : HGST HDS724040ALE640\n",
      "2 : HGST HMS5C4040ALE640\n",
      "3 : HGST HMS5C4040BLE640\n",
      "4 : HGST HUH728080ALE600\n",
      "5 : Hitachi HDS5C3030ALA630\n",
      "6 : Hitachi HDS5C3030BLE630\n",
      "7 : Hitachi HDS5C4040ALE630\n",
      "8 : Hitachi HDS722020ALA330\n",
      "9 : Hitachi HDS723020BLA642\n",
      "10 : Hitachi HDS723030ALA640\n",
      "11 : Hitachi HDS724040ALE640\n",
      "12 : ST2000VN000\n",
      "13 : ST31500541AS\n",
      "14 : ST3160316AS\n",
      "15 : ST3160318AS\n",
      "16 : ST320LT007\n",
      "17 : ST4000DM000\n",
      "18 : ST4000DX000\n",
      "19 : ST500LM012 HN\n",
      "20 : ST6000DX000\n",
      "21 : ST9250315AS\n",
      "22 : ST9320325AS\n",
      "23 : TOSHIBA DT01ACA300\n",
      "24 : TOSHIBA MD04ABA400V\n",
      "25 : TOSHIBA MD04ABA500V\n",
      "26 : WDC WD10EACS\n",
      "27 : WDC WD10EADS\n",
      "28 : WDC WD10EADX\n",
      "29 : WDC WD1600AAJS\n",
      "30 : WDC WD20EFRX\n",
      "31 : WDC WD30EFRX\n",
      "32 : WDC WD3200AAJB\n",
      "33 : WDC WD40EFRX\n",
      "34 : WDC WD5000LPVX\n",
      "35 : WDC WD60EFRX\n",
      "36 : WDC WD800AAJS\n"
     ]
    }
   ],
   "source": [
    "summary['manufacturer'] = \"unknown\"\n",
    "for i in summary.index:\n",
    "    si = summary.loc[i,'model']\n",
    "    #print(i, ':', si)\n",
    "    if 'HGST' in si:\n",
    "        summary.loc[i,'manufacturer'] = \"HGST\"\n",
    "        summary.loc[i,'model'] = si.split('HGST ')[1]\n",
    "    if 'Hitachi' in si:\n",
    "        summary.loc[i,'manufacturer'] = \"Hitachi\"\n",
    "        summary.loc[i,'model'] = si.split('Hitachi ')[1]\n",
    "    if 'WDC' in si[0:3]:\n",
    "        summary.loc[i,'manufacturer'] = \"Western Digital\"\n",
    "        summary.loc[i,'model'] = si.split('WDC ')[1]\n",
    "    if 'ST' in si[0:2]:\n",
    "        summary.loc[i,'manufacturer'] = \"Seagate\"\n",
    "        summary.loc[i, 'model'] = si#.split('WDC ')[1]\n",
    "    if 'TOSHIB' in si:\n",
    "        summary.loc[i,'manufacturer'] = \"Toshiba\"\n",
    "        summary.loc[i,'model'] = si.split('TOSHIBA ')[1]\n",
    "\n",
    "summary.to_csv('d2016.csv')"
   ]
  },
  {
   "cell_type": "code",
   "execution_count": null,
   "metadata": {
    "collapsed": false
   },
   "outputs": [],
   "source": []
  },
  {
   "cell_type": "code",
   "execution_count": 7,
   "metadata": {
    "collapsed": false
   },
   "outputs": [
    {
     "name": "stdout",
     "output_type": "stream",
     "text": [
      "hd models                          serial_number  failure\n",
      "model                                          \n",
      "HGST HDS5C4040ALE630                 5        0\n",
      "HGST HDS724040ALE640                 1        0\n",
      "HGST HMS5C4040ALE640               298        1\n",
      "HGST HMS5C4040BLE640               130        0\n",
      "HGST HUH728080ALE600                 1        0\n",
      "Hitachi HDS5C3030ALA630            190        0\n",
      "Hitachi HDS5C3030BLE630              1        0\n",
      "Hitachi HDS5C4040ALE630            112        0\n",
      "Hitachi HDS722020ALA330            190        0\n",
      "Hitachi HDS723020BLA642              1        0\n",
      "Hitachi HDS723030ALA640             43        0\n",
      "Hitachi HDS724040ALE640              1        0\n",
      "ST2000VN000                          1        0\n",
      "ST31500541AS                        13        0\n",
      "ST3160316AS                          2        0\n",
      "ST3160318AS                          4        0\n",
      "ST320LT007                           1        0\n",
      "ST4000DM000                       1552        7\n",
      "ST4000DX000                         10        0\n",
      "ST500LM012 HN                       21        0\n",
      "ST6000DX000                         87        0\n",
      "ST9250315AS                          3        0\n",
      "ST9320325AS                          3        0\n",
      "TOSHIBA DT01ACA300                   2        0\n",
      "TOSHIBA MD04ABA400V                  9        0\n",
      "TOSHIBA MD04ABA500V                  4        0\n",
      "WDC WD10EACS                         2        1\n",
      "WDC WD10EADS                        10        0\n",
      "WDC WD10EADX                         1        0\n",
      "WDC WD1600AAJS                       6        0\n",
      "WDC WD20EFRX                         5        1\n",
      "WDC WD30EFRX                        34        0\n",
      "WDC WD3200AAJB                       1        0\n",
      "WDC WD40EFRX                         1        0\n",
      "WDC WD5000LPVX                      15        1\n",
      "WDC WD60EFRX                        13        0\n",
      "WDC WD800AAJS                        1        0\n"
     ]
    }
   ],
   "source": [
    "hd_models = hd.groupby(\"model\").agg({\"failure\": np.sum, \"serial_number\": pd.Series.nunique})\n",
    "hd_models_index = hd_models.index.tolist()\n",
    "hd_failure_count = hd_models.failure.tolist()\n",
    "n_required = 0 \n",
    "for q in range(len(hd_models)):\n",
    "    if hd_failure_count[q] < n_required:\n",
    "        #print(hd_models_index[q])\n",
    "        hd = hd[hd.model != hd_models_index[q]]\n",
    "hd_models = hd.groupby(\"model\").agg({\"failure\": np.sum, \"serial_number\": pd.Series.nunique})\n",
    "print('hd models', hd_models)"
   ]
  },
  {
   "cell_type": "code",
   "execution_count": 10,
   "metadata": {
    "collapsed": false
   },
   "outputs": [],
   "source": [
    "models = hd['model'].value_counts().index.tolist()\n",
    "hd_by_model_by_day =[]\n",
    "aggregations = {\n",
    "    'failure': {\n",
    "     'failure': 'sum'\n",
    "    },  \n",
    "    'serial_number':{\n",
    "         'unique_serial': pd.Series.nunique   \n",
    "        }\n",
    "}\n",
    "\n",
    "for q in models: #for each model get its stats per day\n",
    "    ags = hd[hd['model'] == q].groupby(\"day_of_year\").agg(aggregations)#.reset_index()\n",
    "    ags.columns = ags.columns.droplevel()\n",
    "    hd_by_model_by_day.append(ags)\n",
    "\n",
    "tot_failures = []    \n",
    "for q in range(len(models)):\n",
    "    tot_failures.append( np.cumsum(hd_by_model_by_day[q]['failure']))"
   ]
  },
  {
   "cell_type": "code",
   "execution_count": 11,
   "metadata": {
    "collapsed": false
   },
   "outputs": [],
   "source": [
    "for n in range(len(hd_by_model)):\n",
    "    failure_rate = 100*365*np.mean(hd_by_model_by_day[n].failure/hd_by_model[n].unique_serial)\n",
    "    print(\"%s fails at an annual percentage rate of %s percent.\" % (models[n],np.round(failure_rate,1)))"
   ]
  },
  {
   "cell_type": "code",
   "execution_count": 13,
   "metadata": {
    "collapsed": false,
    "scrolled": true
   },
   "outputs": [
    {
     "data": {
      "image/png": "[encoded data removed]",
      "text/plain": [
       "<matplotlib.figure.Figure at 0x7f9892e2bba8>"
      ]
     },
     "metadata": {},
     "output_type": "display_data"
    },
    {
     "data": {
      "text/plain": [
       "<matplotlib.figure.Figure at 0x7f9892d736d8>"
      ]
     },
     "metadata": {},
     "output_type": "display_data"
    },
    {
     "data": {
      "image/png": "[encoded data removed]",
      "text/plain": [
       "<matplotlib.figure.Figure at 0x7f9892dee0f0>"
      ]
     },
     "metadata": {},
     "output_type": "display_data"
    }
   ],
   "source": [
    "\n",
    "sn_colors = sns.color_palette(\"hls\", 8)\n",
    "tmark=\"\"\n",
    "fig = plt.figure(figsize=(1,1))\n",
    "ax = fig.add_subplot(111)\n",
    "for tcolor, umn in zip(sn_colors, range(len(models))):\n",
    "    ax.plot([None], [None], marker=tmark, color=tcolor, lw=1.0,label = models[umn])\n",
    "leg = plt.legend(loc='center', shadow=False, frameon=True, ncol=2, borderaxespad=0.)\n",
    "leg.get_frame().set_linewidth(0.5)\n",
    "plt.axis('off')\n",
    "plt.show()\n",
    "\n",
    "fig = plt.figure(figsize=(6,6))\n",
    "fig = plt.figure()\n",
    "ax = fig.add_subplot(221)\n",
    "for tcolor, umn, in zip(sn_colors, range(len(models))):\n",
    "    ax.plot(hd_by_model_by_day[umn].index, hd_by_model_by_day[umn].failure, marker=tmark, color=tcolor, lw=1.0)\n",
    "ax.set_xlabel('Day')\n",
    "ax.set_ylabel('# failures')\n",
    "ax.set_xlim(0)\n",
    "ax.set_ylim(0)\n",
    "ax = fig.add_subplot(222)\n",
    "for tcolor, umn in zip(sn_colors, range(len(models))):\n",
    "    ax.semilogy(hd_by_model_by_day[umn].index, hd_by_model_by_day[umn].unique_serial, marker=tmark, color=tcolor, lw=1.0)\n",
    "ax.set_xlabel('Day')\n",
    "ax.set_ylabel('# of unique drives')\n",
    "ax = fig.add_subplot(223)\n",
    "for tcolor, umn in zip(sn_colors, range(len(models))):\n",
    "    ax.plot(hd_by_model_by_day[umn].index, tot_failures[umn], marker=tmark, color=tcolor, lw=1.0)\n",
    "ax.set_xlabel('Day')\n",
    "ax.set_ylabel('cumulative # failures')\n",
    "ax = fig.add_subplot(224)\n",
    "for tcolor, umn in zip(sn_colors, range(len(models))):\n",
    "    ax.plot(hd_by_model_by_day[umn].index, tot_failures[umn]/hd_by_model_by_day[umn].unique_serial, marker=tmark, color=tcolor, lw=1.0)\n",
    "ax.set_xlabel('Day')\n",
    "ax.set_ylabel('Cumulative Failure Fraction')\n",
    "plt.tight_layout()\n",
    "plt.show()\n"
   ]
  },
  {
   "cell_type": "markdown",
   "metadata": {},
   "source": [
    "# What is the median survival time of a hard drive?\n",
    "* Survival analysis for this, in particular the [lifelines package](http://lifelines.readthedocs.io/en/latest/). Note that this data is truncated and censored, what that means is that we need to use careful statistics to predict reasonable survival times and reasonable confidence levels of those predictions."
   ]
  },
  {
   "cell_type": "code",
   "execution_count": 14,
   "metadata": {
    "collapsed": false
   },
   "outputs": [
    {
     "name": "stdout",
     "output_type": "stream",
     "text": [
      "{'WDC WD10EADX': 28, 'Hitachi HDS5C3030BLE630': 6, 'WDC WD10EACS': 26, 'WDC WD5000LPVX': 34, 'ST6000DX000': 20, 'ST320LT007': 16, 'WDC WD10EADS': 27, 'Hitachi HDS723020BLA642': 9, 'WDC WD60EFRX': 35, 'Hitachi HDS723030ALA640': 10, 'WDC WD30EFRX': 31, 'HGST HDS724040ALE640': 1, 'TOSHIBA DT01ACA300': 23, 'HGST HMS5C4040ALE640': 2, 'WDC WD1600AAJS': 29, 'ST3160318AS': 15, 'ST31500541AS': 13, 'HGST HDS5C4040ALE630': 0, 'WDC WD800AAJS': 36, 'WDC WD20EFRX': 30, 'Hitachi HDS5C3030ALA630': 5, 'ST2000VN000': 12, 'TOSHIBA MD04ABA400V': 24, 'Hitachi HDS5C4040ALE630': 7, 'WDC WD40EFRX': 33, 'HGST HUH728080ALE600': 4, 'ST3160316AS': 14, 'Hitachi HDS724040ALE640': 11, 'ST9250315AS': 21, 'ST4000DX000': 18, 'ST500LM012 HN': 19, 'Hitachi HDS722020ALA330': 8, 'WDC WD3200AAJB': 32, 'TOSHIBA MD04ABA500V': 25, 'ST9320325AS': 22, 'HGST HMS5C4040BLE640': 3, 'ST4000DM000': 17}\n"
     ]
    }
   ],
   "source": [
    "model_map = dict(zip(hd_models.index.tolist(),range(len(hd_models)))) # map the model names to integers for convenience\n",
    "hd = hd.replace({'model': model_map})\n",
    "print(model_map)"
   ]
  },
  {
   "cell_type": "code",
   "execution_count": 15,
   "metadata": {
    "collapsed": false
   },
   "outputs": [],
   "source": [
    "#seagates = pd.DataFrame.copy(hd[hd['model'] == 'ST4000DM000']) # selected the most common seagate model\n",
    "aggregations = {\n",
    "    'day_of_year': { \n",
    "        'first_date': 'min',  \n",
    "        'last_date': 'max', \n",
    "        'uncensored_days': 'count',\n",
    "        'days': lambda x: max(x) - min(x)  \n",
    "    },\n",
    "    'smart_9_raw': { # smart 9 is the disk uptime\n",
    "        'runtime_max': 'max',  \n",
    "        'runtime_min': 'min',\n",
    "        'uptime': lambda x: max(x) - min(x)  \n",
    "    },\n",
    "    'model':{\n",
    "       'model_count': 'count',\n",
    "       'model': 'mean'\n",
    "    },\n",
    "    'failure': {\n",
    "     'failure': 'sum'\n",
    "    }  \n",
    "}\n",
    "survival = hd.groupby('serial_number').agg(aggregations).reset_index()\n",
    "survival.columns = survival.columns.droplevel()"
   ]
  },
  {
   "cell_type": "code",
   "execution_count": 16,
   "metadata": {
    "collapsed": false
   },
   "outputs": [
    {
     "name": "stdout",
     "output_type": "stream",
     "text": [
      "17    1552\n",
      "2      298\n",
      "5      190\n",
      "8      190\n",
      "3      130\n",
      "7      112\n",
      "20      87\n",
      "10      43\n",
      "31      34\n",
      "19      21\n",
      "34      15\n",
      "35      13\n",
      "13      13\n",
      "18      10\n",
      "27      10\n",
      "24       9\n",
      "29       6\n",
      "30       5\n",
      "0        5\n",
      "25       4\n",
      "15       4\n",
      "22       3\n",
      "21       3\n",
      "26       2\n",
      "23       2\n",
      "14       2\n",
      "33       1\n",
      "12       1\n",
      "4        1\n",
      "6        1\n",
      "16       1\n",
      "32       1\n",
      "11       1\n",
      "9        1\n",
      "28       1\n",
      "1        1\n",
      "36       1\n",
      "Name: model, dtype: int64\n"
     ]
    }
   ],
   "source": [
    "survival = survival.loc[survival['failure'] <=1 ]\n",
    "survival['runtime_max'] = survival['runtime_max']/8760.0 # hrs to yrs\n",
    "survival['runtime_min'] = survival['runtime_min']/8760.0\n",
    "print(survival['model'].value_counts())\n",
    "del survival['model_count']"
   ]
  },
  {
   "cell_type": "markdown",
   "metadata": {},
   "source": [
    "## Kaplan-Meier Modeling\n",
    "\n",
    " *    Kaplan-Meier is a non-parametric non-generalising maximum-likelihood estimate of the survival function, S(t), which is the probability of survival until time t.\n",
    " *   The data is left truncated: hard drives enter study interval at different times. So we use the 'entry' keyword (Did I interpret the lifelines documentation right?)\n",
    " *   If we had a parametric form of the survival function we could predict new unseen data and predict the relative impact on survival of various hard drive attributes...\n",
    "\n"
   ]
  },
  {
   "cell_type": "code",
   "execution_count": 17,
   "metadata": {
    "collapsed": false
   },
   "outputs": [
    {
     "data": {
      "image/png": "[encoded data removed]",
      "text/plain": [
       "<matplotlib.figure.Figure at 0x7f9892b6bdd8>"
      ]
     },
     "metadata": {},
     "output_type": "display_data"
    }
   ],
   "source": [
    "import lifelines as sa\n",
    "km = sa.KaplanMeierFitter()\n",
    "km.fit(durations=survival['runtime_max'], event_observed=survival['failure'], entry=survival['runtime_min'])\n",
    "S = km.survival_function_\n",
    "ax = km.plot(title=\"Kaplan Meier fit\", legend=False)\n",
    "ax.annotate('half-life', color='black', xy=(0.01,0.5), xycoords='axes fraction', xytext=(10,4), textcoords='offset points')\n",
    "ax.axhline(.5, ls='--', lw=1.0, color='black')\n",
    "ax.set_ylim([0,1])\n",
    "#ax.set_xlim([0,6])\n",
    "plt.show()"
   ]
  },
  {
   "cell_type": "markdown",
   "metadata": {},
   "source": [
    "## Hazard rates with Nelson-Aalen\n",
    " * The failure rate is the total number of failures within a population, divided by the total time expended by that population, during a particular measurement interval.\n",
    " * The hazard function or hazard rate is the failure rate calculated instantaneously.  \n",
    " * The cumulative hazard curve is a basic tool: it is the sum of failure rate estimates so it is much more stable than the point-wise instananeous estimates.\n",
    " * The hazard curve has a catch: the derivation involves a smoothing kernel smoother applied to the differences of the cumulative hazard curve), and thus it has a free parameter."
   ]
  },
  {
   "cell_type": "code",
   "execution_count": 18,
   "metadata": {
    "collapsed": false,
    "scrolled": true
   },
   "outputs": [
    {
     "data": {
      "image/png": "[encoded data removed]",
      "text/plain": [
       "<matplotlib.figure.Figure at 0x7f9892b69cc0>"
      ]
     },
     "metadata": {},
     "output_type": "display_data"
    },
    {
     "data": {
      "image/png": "[encoded data removed]",
      "text/plain": [
       "<matplotlib.figure.Figure at 0x7f989279d358>"
      ]
     },
     "metadata": {},
     "output_type": "display_data"
    },
    {
     "name": "stdout",
     "output_type": "stream",
     "text": [
      "The failure rate for these seagate drives is 1.76%\n"
     ]
    }
   ],
   "source": [
    "from lifelines import NelsonAalenFitter\n",
    "naf = NelsonAalenFitter()\n",
    "seagate = survival.loc[survival['model'] == model_map['ST4000DM000']]\n",
    "naf.fit(seagate['runtime_max'], seagate['failure'], entry=seagate['runtime_min'], label='Seagate ST4000DM000')\n",
    "fig, axes = plt.subplots(nrows=1, ncols=1, squeeze=False, sharex=True, sharey=True)\n",
    "naf.plot(ax=axes[0,0],title=\"Cumulative Hazard Rate\")\n",
    "plt.show()\n",
    "\n",
    "haz = naf.smoothed_hazard_\n",
    "smoothing_bandwidth_time=1.2\n",
    "q = haz(smoothing_bandwidth_time)\n",
    "mean_haz = np.mean( q[q.columns[0]])\n",
    "\n",
    "ax = naf.plot_hazard(bandwidth=smoothing_bandwidth_time, title = \"Hazard Rate\")\n",
    "ax.axhline(mean_haz , ls='--', lw=1.0, color='black')\n",
    "haz_str = str(100*np.round(mean_haz,4)) + \"%\"\n",
    "ax.annotate(haz_str, color='black', xy=(0.01,mean_haz), xytext=(10,4), textcoords='offset points')\n",
    "plt.show()\n",
    "print(\"The failure rate for these seagate drives is %s\" % haz_str)"
   ]
  },
  {
   "cell_type": "markdown",
   "metadata": {},
   "source": [
    "### That was a lot of work to get basically the same failure rate that we calculated all the way back at the begining. Further survival regression analyis would be useful, but lets move on from survival analysis for now and ask another question.\n",
    "\n",
    "##  Predict which hard drives will fail given the hard drive statistics?\n",
    " * So there isn't a lot of information about drive failures, but can we at least find what hard drive diagnostics (the smart values) are preddictive of a hard drive failure?\n",
    " * Most of the data columns are S.M.A.R.T. values that can vary in meaning based on the manufacturer and model. For this reason at this time limit the more in depth analysis to the most common identical drive model. "
   ]
  },
  {
   "cell_type": "code",
   "execution_count": 19,
   "metadata": {
    "collapsed": false
   },
   "outputs": [
    {
     "name": "stdout",
     "output_type": "stream",
     "text": [
      "(182000, 95)\n",
      "0.0 \t NaN fraction  day_of_year\n",
      "0.0 \t NaN fraction  serial_number\n",
      "0.0 \t NaN fraction  model\n",
      "0.0 \t NaN fraction  capacity_tb\n",
      "0.0 \t NaN fraction  failure\n",
      "0.0 \t NaN fraction  smart_1_normalized\n",
      "0.0 \t NaN fraction  smart_1_raw\n",
      "0.61221978022 \t NaN fraction  smart_2_normalized\n",
      "0.61221978022 \t NaN fraction  smart_2_raw\n",
      "0.0 \t NaN fraction  smart_3_normalized\n",
      "0.0 \t NaN fraction  smart_3_raw\n",
      "0.0 \t NaN fraction  smart_4_normalized\n",
      "0.0 \t NaN fraction  smart_4_raw\n",
      "0.0 \t NaN fraction  smart_5_normalized\n",
      "0.0 \t NaN fraction  smart_5_raw\n",
      "0.0 \t NaN fraction  smart_7_normalized\n",
      "0.0 \t NaN fraction  smart_7_raw\n",
      "0.61221978022 \t NaN fraction  smart_8_normalized\n",
      "0.61221978022 \t NaN fraction  smart_8_raw\n",
      "0.0 \t NaN fraction  smart_9_normalized\n",
      "0.0 \t NaN fraction  smart_9_raw\n",
      "0.0 \t NaN fraction  smart_10_normalized\n",
      "0.0 \t NaN fraction  smart_10_raw\n",
      "0.967373626374 \t NaN fraction  smart_11_normalized\n",
      "0.967373626374 \t NaN fraction  smart_11_raw\n",
      "0.0 \t NaN fraction  smart_12_normalized\n",
      "0.0 \t NaN fraction  smart_12_raw\n",
      "0.9995 \t NaN fraction  smart_22_normalized\n",
      "0.9995 \t NaN fraction  smart_22_raw\n",
      "0.416697802198 \t NaN fraction  smart_183_normalized\n",
      "0.416697802198 \t NaN fraction  smart_183_raw\n",
      "0.413450549451 \t NaN fraction  smart_184_normalized\n",
      "0.413450549451 \t NaN fraction  smart_184_raw\n",
      "0.413450549451 \t NaN fraction  smart_187_normalized\n",
      "0.413450549451 \t NaN fraction  smart_187_raw\n",
      "0.413450549451 \t NaN fraction  smart_188_normalized\n",
      "0.413450549451 \t NaN fraction  smart_188_raw\n",
      "0.413450549451 \t NaN fraction  smart_189_normalized\n",
      "0.413450549451 \t NaN fraction  smart_189_raw\n",
      "0.413450549451 \t NaN fraction  smart_190_normalized\n",
      "0.413450549451 \t NaN fraction  smart_190_raw\n",
      "0.405994505495 \t NaN fraction  smart_191_normalized\n",
      "0.405994505495 \t NaN fraction  smart_191_raw\n",
      "0.00524725274725 \t NaN fraction  smart_192_normalized\n",
      "0.00524725274725 \t NaN fraction  smart_192_raw\n",
      "0.0122032967033 \t NaN fraction  smart_193_normalized\n",
      "0.0122032967033 \t NaN fraction  smart_193_raw\n",
      "0.0 \t NaN fraction  smart_194_normalized\n",
      "0.0 \t NaN fraction  smart_194_raw\n",
      "0.948 \t NaN fraction  smart_195_normalized\n",
      "0.948 \t NaN fraction  smart_195_raw\n",
      "0.586549450549 \t NaN fraction  smart_196_normalized\n",
      "0.586549450549 \t NaN fraction  smart_196_raw\n",
      "0.0 \t NaN fraction  smart_197_normalized\n",
      "0.0 \t NaN fraction  smart_197_raw\n",
      "0.0 \t NaN fraction  smart_198_normalized\n",
      "0.0 \t NaN fraction  smart_198_raw\n",
      "0.0 \t NaN fraction  smart_199_normalized\n",
      "0.0 \t NaN fraction  smart_199_raw\n",
      "0.967373626374 \t NaN fraction  smart_200_normalized\n",
      "0.967373626374 \t NaN fraction  smart_200_raw\n",
      "0.995076923077 \t NaN fraction  smart_220_normalized\n",
      "0.995076923077 \t NaN fraction  smart_220_raw\n",
      "0.995076923077 \t NaN fraction  smart_222_normalized\n",
      "0.995076923077 \t NaN fraction  smart_222_raw\n",
      "0.988120879121 \t NaN fraction  smart_223_normalized\n",
      "0.988120879121 \t NaN fraction  smart_223_raw\n",
      "0.995076923077 \t NaN fraction  smart_224_normalized\n",
      "0.995076923077 \t NaN fraction  smart_224_raw\n",
      "0.993043956044 \t NaN fraction  smart_225_normalized\n",
      "0.993043956044 \t NaN fraction  smart_225_raw\n",
      "0.995076923077 \t NaN fraction  smart_226_normalized\n",
      "0.995076923077 \t NaN fraction  smart_226_raw\n",
      "0.410714285714 \t NaN fraction  smart_240_normalized\n",
      "0.410714285714 \t NaN fraction  smart_240_raw\n",
      "0.416197802198 \t NaN fraction  smart_241_normalized\n",
      "0.416197802198 \t NaN fraction  smart_241_raw\n",
      "0.416197802198 \t NaN fraction  smart_242_normalized\n",
      "0.416197802198 \t NaN fraction  smart_242_raw\n",
      "0.9995 \t NaN fraction  smart_250_normalized\n",
      "0.9995 \t NaN fraction  smart_250_raw\n",
      "0.9995 \t NaN fraction  smart_251_normalized\n",
      "0.9995 \t NaN fraction  smart_251_raw\n",
      "0.9995 \t NaN fraction  smart_252_normalized\n",
      "0.9995 \t NaN fraction  smart_252_raw\n",
      "0.997241758242 \t NaN fraction  smart_254_normalized\n",
      "0.997241758242 \t NaN fraction  smart_254_raw\n",
      "(182000, 33)\n",
      "Index(['day_of_year', 'serial_number', 'model', 'capacity_tb', 'failure',\n",
      "       'smart_1_normalized', 'smart_1_raw', 'smart_3_normalized',\n",
      "       'smart_3_raw', 'smart_4_normalized', 'smart_4_raw',\n",
      "       'smart_5_normalized', 'smart_5_raw', 'smart_7_normalized',\n",
      "       'smart_7_raw', 'smart_9_normalized', 'smart_9_raw',\n",
      "       'smart_10_normalized', 'smart_10_raw', 'smart_12_normalized',\n",
      "       'smart_12_raw', 'smart_192_normalized', 'smart_192_raw',\n",
      "       'smart_193_normalized', 'smart_193_raw', 'smart_194_normalized',\n",
      "       'smart_194_raw', 'smart_197_normalized', 'smart_197_raw',\n",
      "       'smart_198_normalized', 'smart_198_raw', 'smart_199_normalized',\n",
      "       'smart_199_raw'],\n",
      "      dtype='object')\n"
     ]
    }
   ],
   "source": [
    "#seagates = pd.DataFrame.copy(hd[hd['model'] == 'ST4000DM000']) # selected the most common seagate model\n",
    "#seagates = pd.DataFrame.copy(hd[hd['model'] == 'ST4000DM000']) # selected the most common seagate model\n",
    "print(np.shape(hd))\n",
    "# Some columns have just a few NaNs, while others are all NaNs\n",
    "# lets avoid losing columns that potentiall have lots of information\n",
    "hdcl = hd.dropna(axis=1, how='all')\n",
    "nan_frac = .3\n",
    "for ikey in hdcl.keys():\n",
    "    tmp = hdcl[ikey].isnull().sum()\n",
    "    print(tmp/len(hdcl), \"\\t NaN fraction \", ikey)\n",
    "    if tmp/len(hdcl) >= nan_frac:\n",
    "        hdcl = hdcl.drop(ikey, 1)\n",
    "\n",
    "hdcl = hdcl.fillna(0)\n",
    "\n",
    "for ikey in hdcl.keys():\n",
    "    tmp = hdcl[ikey].isnull().sum()\n",
    "    if tmp > 0:\n",
    "        print(\"Warning, there shouldn't be any NaNs but there are in %s\" % ikey)\n",
    "\n",
    "y = hdcl.failure\n",
    "print(np.shape(hdcl))\n",
    "print(hdcl.columns)"
   ]
  },
  {
   "cell_type": "markdown",
   "metadata": {},
   "source": [
    "### Get just the raw columns and ignore columns with bad data."
   ]
  },
  {
   "cell_type": "code",
   "execution_count": 20,
   "metadata": {
    "collapsed": false
   },
   "outputs": [
    {
     "name": "stdout",
     "output_type": "stream",
     "text": [
      "(182000, 14)\n",
      "Index(['smart_1_raw', 'smart_3_raw', 'smart_4_raw', 'smart_5_raw',\n",
      "       'smart_7_raw', 'smart_9_raw', 'smart_10_raw', 'smart_12_raw',\n",
      "       'smart_192_raw', 'smart_193_raw', 'smart_194_raw', 'smart_197_raw',\n",
      "       'smart_198_raw', 'smart_199_raw'],\n",
      "      dtype='object')\n"
     ]
    }
   ],
   "source": [
    "def clip_by_column_txt(df, col_txt):\n",
    "    for ikey in df.keys():\n",
    "        if col_txt not in ikey:\n",
    "            del df[ikey]\n",
    "\n",
    "clip_by_column_txt(hdcl,\"raw\") # select raw columns only\n",
    "\n",
    "print(np.shape(hdcl))\n",
    "print(hdcl.columns)\n",
    "#sel = VarianceThreshold(threshold=.01)  # remove the features with variance below threshold.\n",
    "#sel.fit_transform(hd)\n",
    "#print(hdcl.head(3))"
   ]
  },
  {
   "cell_type": "markdown",
   "metadata": {},
   "source": [
    "### There are a few ways you could decide to clip the important features... "
   ]
  },
  {
   "cell_type": "code",
   "execution_count": 21,
   "metadata": {
    "collapsed": false
   },
   "outputs": [],
   "source": [
    "# Use forest classifier to find important features\n",
    "forest = ExtraTreesClassifier(n_estimators=250, random_state=0)\n",
    "forest.fit(hdcl, y)\n",
    "importance = forest.feature_importances_\n",
    "std_err = np.std([tree.feature_importances_ for tree in forest.estimators_], axis=0)\n",
    "# get the indices and sort the labels of the important features\n",
    "indices = np.argsort(importance)[::-1]\n",
    "#print(hdcl.columns[indices])\n",
    "x_labels = hdcl.columns[indices]\n",
    "x_labels = x_labels[indices]\n",
    "importance = importance[indices]\n",
    "std_err = std_err[indices]\n",
    "#x_labels = [x for (y, x) in sorted(zip(importance, hdcl.columns))][::-1]"
   ]
  },
  {
   "cell_type": "code",
   "execution_count": 22,
   "metadata": {
    "collapsed": false
   },
   "outputs": [
    {
     "name": "stdout",
     "output_type": "stream",
     "text": [
      "Feature ranking:\n",
      "Rank 1: smart_197_raw (0.320694)\n",
      "Rank 2: smart_9_raw (0.158440)\n",
      "Rank 3: smart_194_raw (0.110761)\n",
      "Rank 4: smart_192_raw (0.092593)\n",
      "Rank 5: smart_5_raw (0.077218)\n",
      "Rank 6: smart_3_raw (0.054894)\n",
      "Rank 7: smart_199_raw (0.048866)\n",
      "Rank 8: smart_7_raw (0.047260)\n",
      "Rank 9: smart_4_raw (0.045611)\n",
      "Rank 10: smart_12_raw (0.019442)\n",
      "Rank 11: smart_193_raw (0.014731)\n",
      "Rank 12: smart_1_raw (0.009067)\n",
      "Rank 13: smart_10_raw (0.000423)\n",
      "Rank 14: smart_198_raw (0.000000)\n"
     ]
    }
   ],
   "source": [
    "print(\"Feature ranking:\")\n",
    "for f in range(hdcl.shape[1]):\n",
    "    print(\"Rank %d: %s (%f)\" % (f + 1, x_labels[f], importance[f]))"
   ]
  },
  {
   "cell_type": "markdown",
   "metadata": {},
   "source": [
    "### In the plot the dashed line is the median of the importance which is the chosen threshold."
   ]
  },
  {
   "cell_type": "code",
   "execution_count": 23,
   "metadata": {
    "collapsed": false
   },
   "outputs": [
    {
     "data": {
      "image/png": "[encoded data removed]",
      "text/plain": [
       "<matplotlib.figure.Figure at 0x7f98920c6630>"
      ]
     },
     "metadata": {},
     "output_type": "display_data"
    }
   ],
   "source": [
    "# clip the features to the most important ones\n",
    "thresh = np.median(importance)\n",
    "clip_importance = importance[np.where(importance >= thresh)]\n",
    "clip_std_err = std_err[np.where(importance >= thresh)]\n",
    "clip_x_labels = x_labels[np.where(importance >= thresh)]\n",
    "clip_l = len(clip_importance)\n",
    "#for i in range(len(clip_indices)):\n",
    "#    print(\"%d. clipped feature %s (%f)\" % (i + 1, clip_x_labels[i], clip_importance[i]))\n",
    "sn_colors = sns.color_palette()\n",
    "plt.figure()\n",
    "plt.title(\"Feature Importances\")\n",
    "plt.bar(range(clip_l), clip_importance, color=sn_colors[1],\n",
    "        yerr=clip_std_err, align=\"center\")\n",
    "# Plot the mean line, below using SelectFromModel we will clip features below this value\n",
    "plt.axhline(thresh, ls='--', lw=2.0, color='black', alpha=99)\n",
    "plt.xticks(range(clip_l), clip_x_labels, rotation=80)\n",
    "plt.xlim([-1, clip_l])\n",
    "plt.ylim([0, .5])\n",
    "plt.show()"
   ]
  },
  {
   "cell_type": "code",
   "execution_count": null,
   "metadata": {
    "collapsed": true
   },
   "outputs": [],
   "source": []
  },
  {
   "cell_type": "code",
   "execution_count": null,
   "metadata": {
    "collapsed": true
   },
   "outputs": [],
   "source": []
  },
  {
   "cell_type": "code",
   "execution_count": null,
   "metadata": {
    "collapsed": true
   },
   "outputs": [],
   "source": []
  }
 ],
 "metadata": {
  "anaconda-cloud": {},
  "kernelspec": {
   "display_name": "Python [conda root]",
   "language": "python",
   "name": "conda-root-py"
  },
  "language_info": {
   "codemirror_mode": {
    "name": "ipython",
    "version": 3
   },
   "file_extension": ".py",
   "mimetype": "text/x-python",
   "name": "python",
   "nbconvert_exporter": "python",
   "pygments_lexer": "ipython3",
   "version": "3.5.2"
  }
 },
 "nbformat": 4,
 "nbformat_minor": 1
}
